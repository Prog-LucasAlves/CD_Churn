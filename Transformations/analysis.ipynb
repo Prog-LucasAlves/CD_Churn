{
 "cells": [
  {
   "attachments": {},
   "cell_type": "markdown",
   "metadata": {},
   "source": [
    "# Previsão de Churn\n",
    "\n",
    "### Análise dos Dados (Limpeza, Transformação e Previssão)"
   ]
  },
  {
   "attachments": {},
   "cell_type": "markdown",
   "metadata": {},
   "source": [
    "#### Bibliotecas utilizadas:"
   ]
  },
  {
   "cell_type": "code",
   "execution_count": 1,
   "metadata": {},
   "outputs": [],
   "source": [
    "# Manipulação de Dados\n",
    "import pandas as pd\n",
    "import numpy as np\n",
    "\n",
    "# Visualização dos dados\n",
    "import matplotlib.pyplot as plt\n",
    "import seaborn as sns\n",
    "\n",
    "# Ignore Warning(Avisos)\n",
    "import warnings\n",
    "\n",
    "warnings.filterwarnings(\"ignore\")\n",
    "\n",
    "pd.set_option('display.max_columns', 100)"
   ]
  },
  {
   "attachments": {},
   "cell_type": "markdown",
   "metadata": {},
   "source": [
    "#### Carregando os dados"
   ]
  },
  {
   "cell_type": "code",
   "execution_count": 2,
   "metadata": {},
   "outputs": [
    {
     "data": {
      "text/html": [
       "<div>\n",
       "<style scoped>\n",
       "    .dataframe tbody tr th:only-of-type {\n",
       "        vertical-align: middle;\n",
       "    }\n",
       "\n",
       "    .dataframe tbody tr th {\n",
       "        vertical-align: top;\n",
       "    }\n",
       "\n",
       "    .dataframe thead th {\n",
       "        text-align: right;\n",
       "    }\n",
       "</style>\n",
       "<table border=\"1\" class=\"dataframe\">\n",
       "  <thead>\n",
       "    <tr style=\"text-align: right;\">\n",
       "      <th></th>\n",
       "      <th>customerID</th>\n",
       "      <th>gender</th>\n",
       "      <th>SeniorCitizen</th>\n",
       "      <th>Partner</th>\n",
       "      <th>Dependents</th>\n",
       "      <th>tenure</th>\n",
       "      <th>PhoneService</th>\n",
       "      <th>MultipleLines</th>\n",
       "      <th>InternetService</th>\n",
       "      <th>OnlineSecurity</th>\n",
       "      <th>OnlineBackup</th>\n",
       "      <th>DeviceProtection</th>\n",
       "      <th>TechSupport</th>\n",
       "      <th>StreamingTV</th>\n",
       "      <th>StreamingMovies</th>\n",
       "      <th>Contract</th>\n",
       "      <th>PaperlessBilling</th>\n",
       "      <th>PaymentMethod</th>\n",
       "      <th>MonthlyCharges</th>\n",
       "      <th>TotalCharges</th>\n",
       "      <th>Churn</th>\n",
       "    </tr>\n",
       "  </thead>\n",
       "  <tbody>\n",
       "    <tr>\n",
       "      <th>0</th>\n",
       "      <td>7590-VHVEG</td>\n",
       "      <td>Female</td>\n",
       "      <td>0</td>\n",
       "      <td>Yes</td>\n",
       "      <td>No</td>\n",
       "      <td>1</td>\n",
       "      <td>No</td>\n",
       "      <td>No phone service</td>\n",
       "      <td>DSL</td>\n",
       "      <td>No</td>\n",
       "      <td>Yes</td>\n",
       "      <td>No</td>\n",
       "      <td>No</td>\n",
       "      <td>No</td>\n",
       "      <td>No</td>\n",
       "      <td>Month-to-month</td>\n",
       "      <td>Yes</td>\n",
       "      <td>Electronic check</td>\n",
       "      <td>29.85</td>\n",
       "      <td>29.85</td>\n",
       "      <td>No</td>\n",
       "    </tr>\n",
       "    <tr>\n",
       "      <th>1</th>\n",
       "      <td>5575-GNVDE</td>\n",
       "      <td>Male</td>\n",
       "      <td>0</td>\n",
       "      <td>No</td>\n",
       "      <td>No</td>\n",
       "      <td>34</td>\n",
       "      <td>Yes</td>\n",
       "      <td>No</td>\n",
       "      <td>DSL</td>\n",
       "      <td>Yes</td>\n",
       "      <td>No</td>\n",
       "      <td>Yes</td>\n",
       "      <td>No</td>\n",
       "      <td>No</td>\n",
       "      <td>No</td>\n",
       "      <td>One year</td>\n",
       "      <td>No</td>\n",
       "      <td>Mailed check</td>\n",
       "      <td>56.95</td>\n",
       "      <td>1889.5</td>\n",
       "      <td>No</td>\n",
       "    </tr>\n",
       "    <tr>\n",
       "      <th>2</th>\n",
       "      <td>3668-QPYBK</td>\n",
       "      <td>Male</td>\n",
       "      <td>0</td>\n",
       "      <td>No</td>\n",
       "      <td>No</td>\n",
       "      <td>2</td>\n",
       "      <td>Yes</td>\n",
       "      <td>No</td>\n",
       "      <td>DSL</td>\n",
       "      <td>Yes</td>\n",
       "      <td>Yes</td>\n",
       "      <td>No</td>\n",
       "      <td>No</td>\n",
       "      <td>No</td>\n",
       "      <td>No</td>\n",
       "      <td>Month-to-month</td>\n",
       "      <td>Yes</td>\n",
       "      <td>Mailed check</td>\n",
       "      <td>53.85</td>\n",
       "      <td>108.15</td>\n",
       "      <td>Yes</td>\n",
       "    </tr>\n",
       "    <tr>\n",
       "      <th>3</th>\n",
       "      <td>7795-CFOCW</td>\n",
       "      <td>Male</td>\n",
       "      <td>0</td>\n",
       "      <td>No</td>\n",
       "      <td>No</td>\n",
       "      <td>45</td>\n",
       "      <td>No</td>\n",
       "      <td>No phone service</td>\n",
       "      <td>DSL</td>\n",
       "      <td>Yes</td>\n",
       "      <td>No</td>\n",
       "      <td>Yes</td>\n",
       "      <td>Yes</td>\n",
       "      <td>No</td>\n",
       "      <td>No</td>\n",
       "      <td>One year</td>\n",
       "      <td>No</td>\n",
       "      <td>Bank transfer (automatic)</td>\n",
       "      <td>42.30</td>\n",
       "      <td>1840.75</td>\n",
       "      <td>No</td>\n",
       "    </tr>\n",
       "    <tr>\n",
       "      <th>4</th>\n",
       "      <td>9237-HQITU</td>\n",
       "      <td>Female</td>\n",
       "      <td>0</td>\n",
       "      <td>No</td>\n",
       "      <td>No</td>\n",
       "      <td>2</td>\n",
       "      <td>Yes</td>\n",
       "      <td>No</td>\n",
       "      <td>Fiber optic</td>\n",
       "      <td>No</td>\n",
       "      <td>No</td>\n",
       "      <td>No</td>\n",
       "      <td>No</td>\n",
       "      <td>No</td>\n",
       "      <td>No</td>\n",
       "      <td>Month-to-month</td>\n",
       "      <td>Yes</td>\n",
       "      <td>Electronic check</td>\n",
       "      <td>70.70</td>\n",
       "      <td>151.65</td>\n",
       "      <td>Yes</td>\n",
       "    </tr>\n",
       "  </tbody>\n",
       "</table>\n",
       "</div>"
      ],
      "text/plain": [
       "   customerID  gender  SeniorCitizen Partner Dependents  tenure PhoneService  \\\n",
       "0  7590-VHVEG  Female              0     Yes         No       1           No   \n",
       "1  5575-GNVDE    Male              0      No         No      34          Yes   \n",
       "2  3668-QPYBK    Male              0      No         No       2          Yes   \n",
       "3  7795-CFOCW    Male              0      No         No      45           No   \n",
       "4  9237-HQITU  Female              0      No         No       2          Yes   \n",
       "\n",
       "      MultipleLines InternetService OnlineSecurity OnlineBackup  \\\n",
       "0  No phone service             DSL             No          Yes   \n",
       "1                No             DSL            Yes           No   \n",
       "2                No             DSL            Yes          Yes   \n",
       "3  No phone service             DSL            Yes           No   \n",
       "4                No     Fiber optic             No           No   \n",
       "\n",
       "  DeviceProtection TechSupport StreamingTV StreamingMovies        Contract  \\\n",
       "0               No          No          No              No  Month-to-month   \n",
       "1              Yes          No          No              No        One year   \n",
       "2               No          No          No              No  Month-to-month   \n",
       "3              Yes         Yes          No              No        One year   \n",
       "4               No          No          No              No  Month-to-month   \n",
       "\n",
       "  PaperlessBilling              PaymentMethod  MonthlyCharges TotalCharges  \\\n",
       "0              Yes           Electronic check           29.85        29.85   \n",
       "1               No               Mailed check           56.95       1889.5   \n",
       "2              Yes               Mailed check           53.85       108.15   \n",
       "3               No  Bank transfer (automatic)           42.30      1840.75   \n",
       "4              Yes           Electronic check           70.70       151.65   \n",
       "\n",
       "  Churn  \n",
       "0    No  \n",
       "1    No  \n",
       "2   Yes  \n",
       "3    No  \n",
       "4   Yes  "
      ]
     },
     "execution_count": 2,
     "metadata": {},
     "output_type": "execute_result"
    }
   ],
   "source": [
    "data = pd.read_csv('../Data/Telco-Customer-Churn.csv', sep=',')\n",
    "\n",
    "# Amostra dos dados\n",
    "data.head()"
   ]
  },
  {
   "attachments": {},
   "cell_type": "markdown",
   "metadata": {},
   "source": [
    "#### Colunas\n",
    "- customerID - Identificação do cliente\n",
    "- gender - Sexo do cliente\n",
    "- SeniorCitizen - Indicador se é um(a) idosa(a)\t\n",
    "- Partner - Indicador se tem um parceiro(a)\n",
    "- Dependents - Indicador se possui dependentes\n",
    "- tenure - Quantos meses o cliente esta na empresa\n",
    "- PhoneService - Indicador se possui serviço de telefonia\n",
    "- MultipleLines - Indicador se possui múltiplas linhas telfônicas\n",
    "- InternetService - Indicador se possui serviços de internet\n",
    "- OnlineSecurity - Indicador se possui serviços de segurança online\n",
    "- OnlineBackup - Indicador se possui serviços de backup online\n",
    "- DeviceProtection - Indicador se possui serviços de equipamentos\n",
    "- TechSupport - Indicador se possui serviços de suporte técnico\n",
    "- StreamingTV - Indicador se posui serviços de streaming de TV\n",
    "- StreamingMovies - Indicador se possui serviços de streaming de filmes\n",
    "- Contract - Tipo de contrato\n",
    "- PaperlessBilling - Indicador se a cobrança é via papel ou não\n",
    "- PaymentMethod - Indicador do tipo de pagamento\n",
    "- MonthlyCharges - Valor mensal dos serviços\n",
    "- TotalCharges - Valor total dos serviços desde o inicio\n",
    "- Churn - Indicador se saiu da empresa ou não"
   ]
  },
  {
   "attachments": {},
   "cell_type": "markdown",
   "metadata": {},
   "source": [
    "#### Cópia do DataFrame original"
   ]
  },
  {
   "cell_type": "code",
   "execution_count": 3,
   "metadata": {},
   "outputs": [],
   "source": [
    "data_copy = data.copy()"
   ]
  },
  {
   "attachments": {},
   "cell_type": "markdown",
   "metadata": {},
   "source": [
    "#### Informações do DataSet"
   ]
  },
  {
   "cell_type": "code",
   "execution_count": 4,
   "metadata": {},
   "outputs": [
    {
     "data": {
      "text/plain": [
       "(7043, 21)"
      ]
     },
     "execution_count": 4,
     "metadata": {},
     "output_type": "execute_result"
    }
   ],
   "source": [
    "# Qtd. linhas e colunas\n",
    "data_copy.shape"
   ]
  },
  {
   "cell_type": "code",
   "execution_count": 5,
   "metadata": {},
   "outputs": [
    {
     "data": {
      "text/plain": [
       "Index(['customerID', 'gender', 'SeniorCitizen', 'Partner', 'Dependents',\n",
       "       'tenure', 'PhoneService', 'MultipleLines', 'InternetService',\n",
       "       'OnlineSecurity', 'OnlineBackup', 'DeviceProtection', 'TechSupport',\n",
       "       'StreamingTV', 'StreamingMovies', 'Contract', 'PaperlessBilling',\n",
       "       'PaymentMethod', 'MonthlyCharges', 'TotalCharges', 'Churn'],\n",
       "      dtype='object')"
      ]
     },
     "execution_count": 5,
     "metadata": {},
     "output_type": "execute_result"
    }
   ],
   "source": [
    "data_copy.columns"
   ]
  },
  {
   "cell_type": "code",
   "execution_count": 6,
   "metadata": {},
   "outputs": [
    {
     "name": "stdout",
     "output_type": "stream",
     "text": [
      "<class 'pandas.core.frame.DataFrame'>\n",
      "RangeIndex: 7043 entries, 0 to 7042\n",
      "Data columns (total 21 columns):\n",
      " #   Column            Non-Null Count  Dtype  \n",
      "---  ------            --------------  -----  \n",
      " 0   customerID        7043 non-null   object \n",
      " 1   gender            7043 non-null   object \n",
      " 2   SeniorCitizen     7043 non-null   int64  \n",
      " 3   Partner           7043 non-null   object \n",
      " 4   Dependents        7043 non-null   object \n",
      " 5   tenure            7043 non-null   int64  \n",
      " 6   PhoneService      7043 non-null   object \n",
      " 7   MultipleLines     7043 non-null   object \n",
      " 8   InternetService   7043 non-null   object \n",
      " 9   OnlineSecurity    7043 non-null   object \n",
      " 10  OnlineBackup      7043 non-null   object \n",
      " 11  DeviceProtection  7043 non-null   object \n",
      " 12  TechSupport       7043 non-null   object \n",
      " 13  StreamingTV       7043 non-null   object \n",
      " 14  StreamingMovies   7043 non-null   object \n",
      " 15  Contract          7043 non-null   object \n",
      " 16  PaperlessBilling  7043 non-null   object \n",
      " 17  PaymentMethod     7043 non-null   object \n",
      " 18  MonthlyCharges    7043 non-null   float64\n",
      " 19  TotalCharges      7043 non-null   object \n",
      " 20  Churn             7043 non-null   object \n",
      "dtypes: float64(1), int64(2), object(18)\n",
      "memory usage: 1.1+ MB\n"
     ]
    }
   ],
   "source": [
    "data_copy.info()"
   ]
  },
  {
   "attachments": {},
   "cell_type": "markdown",
   "metadata": {},
   "source": [
    "#### Transformações no DataSet"
   ]
  },
  {
   "cell_type": "code",
   "execution_count": 7,
   "metadata": {},
   "outputs": [],
   "source": [
    "# Coluna Churn - Alterando para 0 | 1\n",
    "data_copy['Churn'].value_counts()\n",
    "\n",
    "coluna_churn = {'Yes':1, 'No':0}\n",
    "data_copy['Churn'].replace(coluna_churn, inplace=True)"
   ]
  },
  {
   "cell_type": "code",
   "execution_count": 8,
   "metadata": {},
   "outputs": [],
   "source": [
    "# Colocando a coluna 'customerID' como indice\n",
    "data_copy.set_index('customerID', inplace=True)"
   ]
  },
  {
   "cell_type": "code",
   "execution_count": 9,
   "metadata": {},
   "outputs": [
    {
     "name": "stdout",
     "output_type": "stream",
     "text": [
      "11\n"
     ]
    }
   ],
   "source": [
    "# Verificando a coluna 'TotalCharges'\n",
    "# Vamos criar um filtro para verificar se há como dado espaço(s) em branco\n",
    "filter_vazio = data_copy[data_copy['TotalCharges'] == ' ']\n",
    "\n",
    "print(len(filter_vazio))"
   ]
  },
  {
   "attachments": {},
   "cell_type": "markdown",
   "metadata": {},
   "source": [
    "> Como podemos verificar temos 11 dados como vazio na coluna 'TotalCharges'\n",
    "\n",
    "- Temos que transformá-la em '*float*'"
   ]
  },
  {
   "cell_type": "code",
   "execution_count": 10,
   "metadata": {},
   "outputs": [
    {
     "name": "stdout",
     "output_type": "stream",
     "text": [
      "<class 'pandas.core.frame.DataFrame'>\n",
      "Index: 7043 entries, 7590-VHVEG to 3186-AJIEK\n",
      "Data columns (total 20 columns):\n",
      " #   Column            Non-Null Count  Dtype  \n",
      "---  ------            --------------  -----  \n",
      " 0   gender            7043 non-null   object \n",
      " 1   SeniorCitizen     7043 non-null   int64  \n",
      " 2   Partner           7043 non-null   object \n",
      " 3   Dependents        7043 non-null   object \n",
      " 4   tenure            7043 non-null   int64  \n",
      " 5   PhoneService      7043 non-null   object \n",
      " 6   MultipleLines     7043 non-null   object \n",
      " 7   InternetService   7043 non-null   object \n",
      " 8   OnlineSecurity    7043 non-null   object \n",
      " 9   OnlineBackup      7043 non-null   object \n",
      " 10  DeviceProtection  7043 non-null   object \n",
      " 11  TechSupport       7043 non-null   object \n",
      " 12  StreamingTV       7043 non-null   object \n",
      " 13  StreamingMovies   7043 non-null   object \n",
      " 14  Contract          7043 non-null   object \n",
      " 15  PaperlessBilling  7043 non-null   object \n",
      " 16  PaymentMethod     7043 non-null   object \n",
      " 17  MonthlyCharges    7043 non-null   float64\n",
      " 18  TotalCharges      7043 non-null   float64\n",
      " 19  Churn             7043 non-null   int64  \n",
      "dtypes: float64(2), int64(3), object(15)\n",
      "memory usage: 1.1+ MB\n"
     ]
    }
   ],
   "source": [
    "# Fazendo o replace do dado vazio\n",
    "data_copy['TotalCharges'] = data_copy['TotalCharges'].replace(\"\\s+\", \"\", regex=True)\n",
    "\n",
    "# Transformando para float e os dado que estava vazio vai ficar como 'Nan'\n",
    "data_copy['TotalCharges'] = pd.to_numeric(data_copy['TotalCharges'], errors='coerce')\n",
    "\n",
    "# Imputando a mediana nos dados faltantes da coluna 'TotalCharges'\n",
    "#mediana_TotalCharges = data_copy['TotalCharges'].median()\n",
    "#data_copy.loc[data_copy['TotalCharges'].isnull(), 'TotalCharges'] = mediana_TotalCharges\n",
    "\n",
    "# Imputando a Multiplicação da coluna 'MonthlyCharges' pela coluna 'tenure'\n",
    "data_copy['TotalCharges'] = data_copy['MonthlyCharges'] * data_copy['tenure']\n",
    "\n",
    "# Verificando como ficou o tipo da coluna\n",
    "data_copy.info()"
   ]
  },
  {
   "cell_type": "code",
   "execution_count": 11,
   "metadata": {},
   "outputs": [
    {
     "data": {
      "text/plain": [
       "0"
      ]
     },
     "execution_count": 11,
     "metadata": {},
     "output_type": "execute_result"
    }
   ],
   "source": [
    "# Verificando se a valores ausentes\n",
    "data_copy['TotalCharges'].isnull().sum()"
   ]
  },
  {
   "attachments": {},
   "cell_type": "markdown",
   "metadata": {},
   "source": [
    "### Analisando os dados"
   ]
  },
  {
   "cell_type": "code",
   "execution_count": 12,
   "metadata": {},
   "outputs": [
    {
     "data": {
      "text/html": [
       "<div>\n",
       "<style scoped>\n",
       "    .dataframe tbody tr th:only-of-type {\n",
       "        vertical-align: middle;\n",
       "    }\n",
       "\n",
       "    .dataframe tbody tr th {\n",
       "        vertical-align: top;\n",
       "    }\n",
       "\n",
       "    .dataframe thead th {\n",
       "        text-align: right;\n",
       "    }\n",
       "</style>\n",
       "<table border=\"1\" class=\"dataframe\">\n",
       "  <thead>\n",
       "    <tr style=\"text-align: right;\">\n",
       "      <th></th>\n",
       "      <th>SeniorCitizen</th>\n",
       "      <th>tenure</th>\n",
       "      <th>MonthlyCharges</th>\n",
       "      <th>TotalCharges</th>\n",
       "      <th>Churn</th>\n",
       "    </tr>\n",
       "  </thead>\n",
       "  <tbody>\n",
       "    <tr>\n",
       "      <th>count</th>\n",
       "      <td>7043.000000</td>\n",
       "      <td>7043.000000</td>\n",
       "      <td>7043.000000</td>\n",
       "      <td>7043.000000</td>\n",
       "      <td>7043.000000</td>\n",
       "    </tr>\n",
       "    <tr>\n",
       "      <th>mean</th>\n",
       "      <td>0.162147</td>\n",
       "      <td>32.371149</td>\n",
       "      <td>64.761692</td>\n",
       "      <td>2279.581350</td>\n",
       "      <td>0.265370</td>\n",
       "    </tr>\n",
       "    <tr>\n",
       "      <th>std</th>\n",
       "      <td>0.368612</td>\n",
       "      <td>24.559481</td>\n",
       "      <td>30.090047</td>\n",
       "      <td>2264.729447</td>\n",
       "      <td>0.441561</td>\n",
       "    </tr>\n",
       "    <tr>\n",
       "      <th>min</th>\n",
       "      <td>0.000000</td>\n",
       "      <td>0.000000</td>\n",
       "      <td>18.250000</td>\n",
       "      <td>0.000000</td>\n",
       "      <td>0.000000</td>\n",
       "    </tr>\n",
       "    <tr>\n",
       "      <th>25%</th>\n",
       "      <td>0.000000</td>\n",
       "      <td>9.000000</td>\n",
       "      <td>35.500000</td>\n",
       "      <td>394.000000</td>\n",
       "      <td>0.000000</td>\n",
       "    </tr>\n",
       "    <tr>\n",
       "      <th>50%</th>\n",
       "      <td>0.000000</td>\n",
       "      <td>29.000000</td>\n",
       "      <td>70.350000</td>\n",
       "      <td>1393.600000</td>\n",
       "      <td>0.000000</td>\n",
       "    </tr>\n",
       "    <tr>\n",
       "      <th>75%</th>\n",
       "      <td>0.000000</td>\n",
       "      <td>55.000000</td>\n",
       "      <td>89.850000</td>\n",
       "      <td>3786.100000</td>\n",
       "      <td>1.000000</td>\n",
       "    </tr>\n",
       "    <tr>\n",
       "      <th>max</th>\n",
       "      <td>1.000000</td>\n",
       "      <td>72.000000</td>\n",
       "      <td>118.750000</td>\n",
       "      <td>8550.000000</td>\n",
       "      <td>1.000000</td>\n",
       "    </tr>\n",
       "  </tbody>\n",
       "</table>\n",
       "</div>"
      ],
      "text/plain": [
       "       SeniorCitizen       tenure  MonthlyCharges  TotalCharges        Churn\n",
       "count    7043.000000  7043.000000     7043.000000   7043.000000  7043.000000\n",
       "mean        0.162147    32.371149       64.761692   2279.581350     0.265370\n",
       "std         0.368612    24.559481       30.090047   2264.729447     0.441561\n",
       "min         0.000000     0.000000       18.250000      0.000000     0.000000\n",
       "25%         0.000000     9.000000       35.500000    394.000000     0.000000\n",
       "50%         0.000000    29.000000       70.350000   1393.600000     0.000000\n",
       "75%         0.000000    55.000000       89.850000   3786.100000     1.000000\n",
       "max         1.000000    72.000000      118.750000   8550.000000     1.000000"
      ]
     },
     "execution_count": 12,
     "metadata": {},
     "output_type": "execute_result"
    }
   ],
   "source": [
    "data_copy.describe()"
   ]
  },
  {
   "attachments": {},
   "cell_type": "markdown",
   "metadata": {},
   "source": [
    "> Podemos verificar que:\n",
    "\n",
    "- Coluna 'tenure'(Quantos meses o cliente esta na empresa) - A média em que o cliente esta na empresa em 32.37 meses "
   ]
  },
  {
   "cell_type": "code",
   "execution_count": 13,
   "metadata": {},
   "outputs": [
    {
     "data": {
      "text/html": [
       "<div>\n",
       "<style scoped>\n",
       "    .dataframe tbody tr th:only-of-type {\n",
       "        vertical-align: middle;\n",
       "    }\n",
       "\n",
       "    .dataframe tbody tr th {\n",
       "        vertical-align: top;\n",
       "    }\n",
       "\n",
       "    .dataframe thead th {\n",
       "        text-align: right;\n",
       "    }\n",
       "</style>\n",
       "<table border=\"1\" class=\"dataframe\">\n",
       "  <thead>\n",
       "    <tr style=\"text-align: right;\">\n",
       "      <th></th>\n",
       "      <th>SeniorCitizen</th>\n",
       "      <th>tenure</th>\n",
       "      <th>MonthlyCharges</th>\n",
       "      <th>TotalCharges</th>\n",
       "      <th>Churn</th>\n",
       "    </tr>\n",
       "  </thead>\n",
       "  <tbody>\n",
       "    <tr>\n",
       "      <th>count</th>\n",
       "      <td>7043.000000</td>\n",
       "      <td>7043.000000</td>\n",
       "      <td>7043.000000</td>\n",
       "      <td>7043.000000</td>\n",
       "      <td>7043.000000</td>\n",
       "    </tr>\n",
       "    <tr>\n",
       "      <th>mean</th>\n",
       "      <td>0.162147</td>\n",
       "      <td>32.371149</td>\n",
       "      <td>64.761692</td>\n",
       "      <td>2279.581350</td>\n",
       "      <td>0.265370</td>\n",
       "    </tr>\n",
       "    <tr>\n",
       "      <th>std</th>\n",
       "      <td>0.368612</td>\n",
       "      <td>24.559481</td>\n",
       "      <td>30.090047</td>\n",
       "      <td>2264.729447</td>\n",
       "      <td>0.441561</td>\n",
       "    </tr>\n",
       "    <tr>\n",
       "      <th>min</th>\n",
       "      <td>0.000000</td>\n",
       "      <td>0.000000</td>\n",
       "      <td>18.250000</td>\n",
       "      <td>0.000000</td>\n",
       "      <td>0.000000</td>\n",
       "    </tr>\n",
       "    <tr>\n",
       "      <th>0%</th>\n",
       "      <td>0.000000</td>\n",
       "      <td>0.000000</td>\n",
       "      <td>18.250000</td>\n",
       "      <td>0.000000</td>\n",
       "      <td>0.000000</td>\n",
       "    </tr>\n",
       "    <tr>\n",
       "      <th>10%</th>\n",
       "      <td>0.000000</td>\n",
       "      <td>2.000000</td>\n",
       "      <td>20.050000</td>\n",
       "      <td>82.920000</td>\n",
       "      <td>0.000000</td>\n",
       "    </tr>\n",
       "    <tr>\n",
       "      <th>20%</th>\n",
       "      <td>0.000000</td>\n",
       "      <td>6.000000</td>\n",
       "      <td>25.050000</td>\n",
       "      <td>265.460000</td>\n",
       "      <td>0.000000</td>\n",
       "    </tr>\n",
       "    <tr>\n",
       "      <th>30%</th>\n",
       "      <td>0.000000</td>\n",
       "      <td>12.000000</td>\n",
       "      <td>45.850000</td>\n",
       "      <td>548.280000</td>\n",
       "      <td>0.000000</td>\n",
       "    </tr>\n",
       "    <tr>\n",
       "      <th>40%</th>\n",
       "      <td>0.000000</td>\n",
       "      <td>20.000000</td>\n",
       "      <td>58.830000</td>\n",
       "      <td>949.360000</td>\n",
       "      <td>0.000000</td>\n",
       "    </tr>\n",
       "    <tr>\n",
       "      <th>50%</th>\n",
       "      <td>0.000000</td>\n",
       "      <td>29.000000</td>\n",
       "      <td>70.350000</td>\n",
       "      <td>1393.600000</td>\n",
       "      <td>0.000000</td>\n",
       "    </tr>\n",
       "    <tr>\n",
       "      <th>60%</th>\n",
       "      <td>0.000000</td>\n",
       "      <td>40.000000</td>\n",
       "      <td>79.100000</td>\n",
       "      <td>2062.000000</td>\n",
       "      <td>0.000000</td>\n",
       "    </tr>\n",
       "    <tr>\n",
       "      <th>70%</th>\n",
       "      <td>0.000000</td>\n",
       "      <td>50.000000</td>\n",
       "      <td>85.500000</td>\n",
       "      <td>3125.760000</td>\n",
       "      <td>0.000000</td>\n",
       "    </tr>\n",
       "    <tr>\n",
       "      <th>80%</th>\n",
       "      <td>0.000000</td>\n",
       "      <td>60.000000</td>\n",
       "      <td>94.250000</td>\n",
       "      <td>4463.040000</td>\n",
       "      <td>1.000000</td>\n",
       "    </tr>\n",
       "    <tr>\n",
       "      <th>90%</th>\n",
       "      <td>1.000000</td>\n",
       "      <td>69.000000</td>\n",
       "      <td>102.600000</td>\n",
       "      <td>5978.840000</td>\n",
       "      <td>1.000000</td>\n",
       "    </tr>\n",
       "    <tr>\n",
       "      <th>100%</th>\n",
       "      <td>1.000000</td>\n",
       "      <td>72.000000</td>\n",
       "      <td>118.750000</td>\n",
       "      <td>8550.000000</td>\n",
       "      <td>1.000000</td>\n",
       "    </tr>\n",
       "    <tr>\n",
       "      <th>max</th>\n",
       "      <td>1.000000</td>\n",
       "      <td>72.000000</td>\n",
       "      <td>118.750000</td>\n",
       "      <td>8550.000000</td>\n",
       "      <td>1.000000</td>\n",
       "    </tr>\n",
       "  </tbody>\n",
       "</table>\n",
       "</div>"
      ],
      "text/plain": [
       "       SeniorCitizen       tenure  MonthlyCharges  TotalCharges        Churn\n",
       "count    7043.000000  7043.000000     7043.000000   7043.000000  7043.000000\n",
       "mean        0.162147    32.371149       64.761692   2279.581350     0.265370\n",
       "std         0.368612    24.559481       30.090047   2264.729447     0.441561\n",
       "min         0.000000     0.000000       18.250000      0.000000     0.000000\n",
       "0%          0.000000     0.000000       18.250000      0.000000     0.000000\n",
       "10%         0.000000     2.000000       20.050000     82.920000     0.000000\n",
       "20%         0.000000     6.000000       25.050000    265.460000     0.000000\n",
       "30%         0.000000    12.000000       45.850000    548.280000     0.000000\n",
       "40%         0.000000    20.000000       58.830000    949.360000     0.000000\n",
       "50%         0.000000    29.000000       70.350000   1393.600000     0.000000\n",
       "60%         0.000000    40.000000       79.100000   2062.000000     0.000000\n",
       "70%         0.000000    50.000000       85.500000   3125.760000     0.000000\n",
       "80%         0.000000    60.000000       94.250000   4463.040000     1.000000\n",
       "90%         1.000000    69.000000      102.600000   5978.840000     1.000000\n",
       "100%        1.000000    72.000000      118.750000   8550.000000     1.000000\n",
       "max         1.000000    72.000000      118.750000   8550.000000     1.000000"
      ]
     },
     "execution_count": 13,
     "metadata": {},
     "output_type": "execute_result"
    }
   ],
   "source": [
    "# Mundando o padrão de quartis para decis\n",
    "data_copy.describe(percentiles=np.linspace(0, 1, 11))"
   ]
  },
  {
   "attachments": {},
   "cell_type": "markdown",
   "metadata": {},
   "source": [
    "> Podemos verificar que:\n",
    "\n",
    "- Coluna 'tenure'(Quantos meses o cliente esta na empresa) - 40% da base de clientes tem 20 meses que estão na empresa."
   ]
  },
  {
   "cell_type": "code",
   "execution_count": 14,
   "metadata": {},
   "outputs": [
    {
     "name": "stdout",
     "output_type": "stream",
     "text": [
      "3Meses -> Qtd. Clientes: 1062 - Porcentagem: 15.08\n",
      "6Meses -> Qtd. Clientes: 1481 - Porcentagem: 21.03\n",
      "12Meses -> Qtd. Clientes: 2186 - Porcentagem: 31.04\n"
     ]
    }
   ],
   "source": [
    "print(f'3Meses -> Qtd. Clientes: {len(data_copy[data_copy[\"tenure\"] <= 3])} - Porcentagem: {round(100 * len(data_copy[data_copy[\"tenure\"] <= 3]) / data_copy.shape[0], 2)}')\n",
    "\n",
    "print(f'6Meses -> Qtd. Clientes: {len(data_copy[data_copy[\"tenure\"] <= 6])} - Porcentagem: {round(100 * len(data_copy[data_copy[\"tenure\"] <= 6]) / data_copy.shape[0], 2)}')\n",
    "\n",
    "print(f'12Meses -> Qtd. Clientes: {len(data_copy[data_copy[\"tenure\"] <= 12])} - Porcentagem: {round(100 * len(data_copy[data_copy[\"tenure\"] <= 12]) / data_copy.shape[0], 2)}')\n"
   ]
  },
  {
   "cell_type": "code",
   "execution_count": 15,
   "metadata": {},
   "outputs": [],
   "source": [
    "custom_params = {\"axes.spines.right\": False, \"axes.spines.top\": False}\n",
    "sns.set_theme(style=\"ticks\", rc=custom_params, palette=\"Set2\")"
   ]
  },
  {
   "attachments": {},
   "cell_type": "markdown",
   "metadata": {},
   "source": [
    "> Verificando a coluna 'tenure'"
   ]
  },
  {
   "cell_type": "code",
   "execution_count": 16,
   "metadata": {},
   "outputs": [
    {
     "data": {
      "image/png": "[encoded data removed]",
      "text/plain": [
       "<Figure size 640x480 with 1 Axes>"
      ]
     },
     "metadata": {},
     "output_type": "display_data"
    }
   ],
   "source": [
    "plt.tight_layout()\n",
    "sns.histplot(data=data_copy, x='tenure')\n",
    "plt.show()"
   ]
  },
  {
   "attachments": {},
   "cell_type": "markdown",
   "metadata": {},
   "source": [
    "> Coluna 'Churn'"
   ]
  },
  {
   "cell_type": "code",
   "execution_count": 17,
   "metadata": {},
   "outputs": [
    {
     "data": {
      "image/png": "[encoded data removed]",
      "text/plain": [
       "<Figure size 640x480 with 1 Axes>"
      ]
     },
     "metadata": {},
     "output_type": "display_data"
    }
   ],
   "source": [
    "sns.countplot(x='Churn', data=data_copy);"
   ]
  },
  {
   "attachments": {},
   "cell_type": "markdown",
   "metadata": {},
   "source": [
    "> Podemos verificar que:\n",
    "\n",
    "- Coluna 'Churn' esta bem desbalaceada."
   ]
  },
  {
   "cell_type": "code",
   "execution_count": 18,
   "metadata": {},
   "outputs": [
    {
     "name": "stdout",
     "output_type": "stream",
     "text": [
      "Se o modelo chutar tudo como \"Não saiu da empresa\" teremos uma \"acurácia\" de:\n",
      "73.46%\n"
     ]
    }
   ],
   "source": [
    "print('Se o modelo chutar tudo como \"Não saiu da empresa\" teremos uma \"acurácia\" de:')\n",
    "ac = round(100 * len(data_copy[data_copy['Churn'] == 0]) / data_copy.shape[0], 2)\n",
    "print(f'{ac}%')"
   ]
  },
  {
   "attachments": {},
   "cell_type": "markdown",
   "metadata": {},
   "source": [
    "#### Outros Gráficos"
   ]
  },
  {
   "cell_type": "code",
   "execution_count": 19,
   "metadata": {},
   "outputs": [
    {
     "data": {
      "image/png": "[encoded data removed]",
      "text/plain": [
       "<Figure size 1000x1600 with 10 Axes>"
      ]
     },
     "metadata": {},
     "output_type": "display_data"
    }
   ],
   "source": [
    "fig, axes = plt.subplots(5, 2, figsize=(10, 16))\n",
    "# linha 1\n",
    "sns.countplot(x='gender', data=data_copy, ax=axes[0,0])\n",
    "sns.countplot(x='gender', hue='Churn', data=data_copy, ax=axes[0,1])\n",
    "axes[0,0].set_title('Qtd. de Clientes por Sexo')\n",
    "axes[0,1].set_title('Qtd. de Clientes por Sexo x Churn')\n",
    "\n",
    "# linha 2\n",
    "sns.countplot(x='SeniorCitizen', data=data_copy, ax=axes[1,0])\n",
    "sns.countplot(x='SeniorCitizen', hue='Churn', data=data_copy, ax=axes[1,1])\n",
    "axes[1,0].set_title('Qtd. de Clientes Idosas')\n",
    "axes[1,1].set_title('Qtd. de Clientes Idosas x Churn')\n",
    "\n",
    "# linha 3\n",
    "sns.countplot(x='Partner', data=data_copy, ax=axes[2,0])\n",
    "sns.countplot(x='Partner', hue='Churn', data=data_copy, ax=axes[2,1])\n",
    "axes[2,0].set_title('Qtd. de Clientes com Parceiro(a)')\n",
    "axes[2,1].set_title('Qtd. de Clientes com Parceiro(a) x Churn')\n",
    "\n",
    "# linha 4\n",
    "sns.countplot(x='Dependents', data=data_copy, ax=axes[3,0])\n",
    "sns.countplot(x='Dependents', hue='Churn', data=data_copy, ax=axes[3,1])\n",
    "axes[3,0].set_title('Qtd. de Clientes com Depententes')\n",
    "axes[3,1].set_title('Qtd. de Clientes com Depententes x Churn')\n",
    "\n",
    "# Linha 5\n",
    "sns.countplot(x='PhoneService', data=data_copy, ax=axes[4,0])\n",
    "sns.countplot(x='PhoneService', hue='Churn', data=data_copy, ax=axes[4,1])\n",
    "axes[4,0].set_title('Qtd. de Clientes com Serviço de Telefonia')\n",
    "axes[4,1].set_title('Qtd. de Clientes com Serviço de Telefonia x Churn')\n",
    "\n",
    "plt.subplots_adjust(left=0.2, \n",
    "                    bottom=0.1,  \n",
    "                    right=0.9,  \n",
    "                    top=0.9,  \n",
    "                    wspace=0.5,  \n",
    "                    hspace=0.8) \n",
    "\n",
    "plt.show()"
   ]
  },
  {
   "cell_type": "code",
   "execution_count": 20,
   "metadata": {},
   "outputs": [
    {
     "data": {
      "text/plain": [
       "<AxesSubplot: xlabel='Churn', ylabel='MonthlyCharges'>"
      ]
     },
     "execution_count": 20,
     "metadata": {},
     "output_type": "execute_result"
    },
    {
     "data": {
      "image/png": "[encoded data removed]",
      "text/plain": [
       "<Figure size 640x480 with 1 Axes>"
      ]
     },
     "metadata": {},
     "output_type": "display_data"
    }
   ],
   "source": [
    "sns.boxplot(x='Churn', y='MonthlyCharges', data=data_copy)"
   ]
  },
  {
   "attachments": {},
   "cell_type": "markdown",
   "metadata": {},
   "source": [
    "#### Relação entre as featurese e a variável target"
   ]
  },
  {
   "cell_type": "code",
   "execution_count": 21,
   "metadata": {},
   "outputs": [
    {
     "name": "stdout",
     "output_type": "stream",
     "text": [
      "------------------------------\n",
      "           Churn\n",
      "gender          \n",
      "Female  0.269209\n",
      "Male    0.261603\n",
      "------------------------------\n",
      "                  Churn\n",
      "SeniorCitizen          \n",
      "0              0.236062\n",
      "1              0.416813\n",
      "------------------------------\n",
      "            Churn\n",
      "Partner          \n",
      "No       0.329580\n",
      "Yes      0.196649\n",
      "------------------------------\n",
      "               Churn\n",
      "Dependents          \n",
      "No          0.312791\n",
      "Yes         0.154502\n",
      "------------------------------\n",
      "                 Churn\n",
      "PhoneService          \n",
      "No            0.249267\n",
      "Yes           0.267096\n",
      "------------------------------\n",
      "                     Churn\n",
      "MultipleLines             \n",
      "No                0.250442\n",
      "No phone service  0.249267\n",
      "Yes               0.286099\n",
      "------------------------------\n",
      "                    Churn\n",
      "InternetService          \n",
      "DSL              0.189591\n",
      "Fiber optic      0.418928\n",
      "No               0.074050\n",
      "------------------------------\n",
      "                        Churn\n",
      "OnlineSecurity               \n",
      "No                   0.417667\n",
      "No internet service  0.074050\n",
      "Yes                  0.146112\n",
      "------------------------------\n",
      "                        Churn\n",
      "OnlineBackup                 \n",
      "No                   0.399288\n",
      "No internet service  0.074050\n",
      "Yes                  0.215315\n",
      "------------------------------\n",
      "                        Churn\n",
      "DeviceProtection             \n",
      "No                   0.391276\n",
      "No internet service  0.074050\n",
      "Yes                  0.225021\n",
      "------------------------------\n",
      "                        Churn\n",
      "TechSupport                  \n",
      "No                   0.416355\n",
      "No internet service  0.074050\n",
      "Yes                  0.151663\n",
      "------------------------------\n",
      "                        Churn\n",
      "StreamingTV                  \n",
      "No                   0.335231\n",
      "No internet service  0.074050\n",
      "Yes                  0.300702\n",
      "------------------------------\n",
      "                        Churn\n",
      "StreamingMovies              \n",
      "No                   0.336804\n",
      "No internet service  0.074050\n",
      "Yes                  0.299414\n",
      "------------------------------\n",
      "                   Churn\n",
      "Contract                \n",
      "Month-to-month  0.427097\n",
      "One year        0.112695\n",
      "Two year        0.028319\n"
     ]
    }
   ],
   "source": [
    "print('------------------------------')\n",
    "\n",
    "# Vamos ver se a taxa de Churn é diferente para homens e mulheres:\n",
    "print(data_copy[['gender','Churn']].groupby(['gender']).mean())\n",
    "\n",
    "print('------------------------------')\n",
    "\n",
    "# Vamos ver se a taxa de Churn é diferente para idoso(a):\n",
    "print(data_copy[['SeniorCitizen','Churn']].groupby(['SeniorCitizen']).mean())\n",
    "\n",
    "print('------------------------------')\n",
    "\n",
    "# Vamos ver se a taxa de Churn é diferente para parceiro(a):\n",
    "print(data_copy[['Partner','Churn']].groupby(['Partner']).mean())\n",
    "\n",
    "print('------------------------------')\n",
    "\n",
    "# Vamos ver se a taxa de Churn é diferente para dependentes:\n",
    "print(data_copy[['Dependents','Churn']].groupby(['Dependents']).mean())\n",
    "\n",
    "print('------------------------------')\n",
    "\n",
    "# Vamos ver se a taxa de Churn é diferente para serviço de telefonia:\n",
    "print(data_copy[['PhoneService','Churn']].groupby(['PhoneService']).mean())\n",
    "\n",
    "print('------------------------------')\n",
    "\n",
    "# Vamos ver se a taxa de Churn é diferente para serviço de múltiplas linhas telefônicas:\n",
    "print(data_copy[['MultipleLines','Churn']].groupby(['MultipleLines']).mean())\n",
    "\n",
    "print('------------------------------')\n",
    "\n",
    "# Vamos ver se a taxa de Churn é diferente para serviço de internet:\n",
    "print(data_copy[['InternetService','Churn']].groupby(['InternetService']).mean())\n",
    "\n",
    "print('------------------------------')\n",
    "\n",
    "# Vamos ver se a taxa de Churn é diferente para serviço de seguraça online:\n",
    "print(data_copy[['OnlineSecurity','Churn']].groupby(['OnlineSecurity']).mean())\n",
    "\n",
    "print('------------------------------')\n",
    "\n",
    "# Vamos ver se a taxa de Churn é diferente para serviço de backup online:\n",
    "print(data_copy[['OnlineBackup','Churn']].groupby(['OnlineBackup']).mean())\n",
    "\n",
    "print('------------------------------')\n",
    "\n",
    "# Vamos ver se a taxa de Churn é diferente para serviço de proteção de equipamentos:\n",
    "print(data_copy[['DeviceProtection','Churn']].groupby(['DeviceProtection']).mean())\n",
    "\n",
    "print('------------------------------')\n",
    "\n",
    "# Vamos ver se a taxa de Churn é diferente para serviço de suporte técnico:\n",
    "print(data_copy[['TechSupport','Churn']].groupby(['TechSupport']).mean())\n",
    "\n",
    "print('------------------------------')\n",
    "\n",
    "# Vamos ver se a taxa de Churn é diferente para serviço Streaming de Tv:\n",
    "print(data_copy[['StreamingTV','Churn']].groupby(['StreamingTV']).mean())\n",
    "\n",
    "print('------------------------------')\n",
    "\n",
    "# Vamos ver se a taxa de Churn é diferente para serviço Streaming de filmes:\n",
    "print(data_copy[['StreamingMovies','Churn']].groupby(['StreamingMovies']).mean())\n",
    "\n",
    "print('------------------------------')\n",
    "\n",
    "# Vamos ver se a taxa de Churn é diferente para o contrato:\n",
    "print(data_copy[['Contract','Churn']].groupby(['Contract']).mean())"
   ]
  },
  {
   "cell_type": "code",
   "execution_count": 22,
   "metadata": {},
   "outputs": [
    {
     "data": {
      "text/html": [
       "<div>\n",
       "<style scoped>\n",
       "    .dataframe tbody tr th:only-of-type {\n",
       "        vertical-align: middle;\n",
       "    }\n",
       "\n",
       "    .dataframe tbody tr th {\n",
       "        vertical-align: top;\n",
       "    }\n",
       "\n",
       "    .dataframe thead th {\n",
       "        text-align: right;\n",
       "    }\n",
       "</style>\n",
       "<table border=\"1\" class=\"dataframe\">\n",
       "  <thead>\n",
       "    <tr style=\"text-align: right;\">\n",
       "      <th></th>\n",
       "      <th></th>\n",
       "      <th></th>\n",
       "      <th></th>\n",
       "      <th>mean</th>\n",
       "    </tr>\n",
       "    <tr>\n",
       "      <th>gender</th>\n",
       "      <th>SeniorCitizen</th>\n",
       "      <th>Partner</th>\n",
       "      <th>Dependents</th>\n",
       "      <th></th>\n",
       "    </tr>\n",
       "  </thead>\n",
       "  <tbody>\n",
       "    <tr>\n",
       "      <th rowspan=\"8\" valign=\"top\">Female</th>\n",
       "      <th rowspan=\"4\" valign=\"top\">0</th>\n",
       "      <th rowspan=\"2\" valign=\"top\">No</th>\n",
       "      <th>No</th>\n",
       "      <td>0.320628</td>\n",
       "    </tr>\n",
       "    <tr>\n",
       "      <th>Yes</th>\n",
       "      <td>0.225352</td>\n",
       "    </tr>\n",
       "    <tr>\n",
       "      <th rowspan=\"2\" valign=\"top\">Yes</th>\n",
       "      <th>No</th>\n",
       "      <td>0.191275</td>\n",
       "    </tr>\n",
       "    <tr>\n",
       "      <th>Yes</th>\n",
       "      <td>0.146919</td>\n",
       "    </tr>\n",
       "    <tr>\n",
       "      <th rowspan=\"4\" valign=\"top\">1</th>\n",
       "      <th rowspan=\"2\" valign=\"top\">No</th>\n",
       "      <th>No</th>\n",
       "      <td>0.498423</td>\n",
       "    </tr>\n",
       "    <tr>\n",
       "      <th>Yes</th>\n",
       "      <td>0.333333</td>\n",
       "    </tr>\n",
       "    <tr>\n",
       "      <th rowspan=\"2\" valign=\"top\">Yes</th>\n",
       "      <th>No</th>\n",
       "      <td>0.349282</td>\n",
       "    </tr>\n",
       "    <tr>\n",
       "      <th>Yes</th>\n",
       "      <td>0.205128</td>\n",
       "    </tr>\n",
       "    <tr>\n",
       "      <th rowspan=\"8\" valign=\"top\">Male</th>\n",
       "      <th rowspan=\"4\" valign=\"top\">0</th>\n",
       "      <th rowspan=\"2\" valign=\"top\">No</th>\n",
       "      <th>No</th>\n",
       "      <td>0.302679</td>\n",
       "    </tr>\n",
       "    <tr>\n",
       "      <th>Yes</th>\n",
       "      <td>0.203791</td>\n",
       "    </tr>\n",
       "    <tr>\n",
       "      <th rowspan=\"2\" valign=\"top\">Yes</th>\n",
       "      <th>No</th>\n",
       "      <td>0.225750</td>\n",
       "    </tr>\n",
       "    <tr>\n",
       "      <th>Yes</th>\n",
       "      <td>0.127737</td>\n",
       "    </tr>\n",
       "    <tr>\n",
       "      <th rowspan=\"4\" valign=\"top\">1</th>\n",
       "      <th rowspan=\"2\" valign=\"top\">No</th>\n",
       "      <th>No</th>\n",
       "      <td>0.483607</td>\n",
       "    </tr>\n",
       "    <tr>\n",
       "      <th>Yes</th>\n",
       "      <td>0.200000</td>\n",
       "    </tr>\n",
       "    <tr>\n",
       "      <th rowspan=\"2\" valign=\"top\">Yes</th>\n",
       "      <th>No</th>\n",
       "      <td>0.373665</td>\n",
       "    </tr>\n",
       "    <tr>\n",
       "      <th>Yes</th>\n",
       "      <td>0.272727</td>\n",
       "    </tr>\n",
       "  </tbody>\n",
       "</table>\n",
       "</div>"
      ],
      "text/plain": [
       "                                             mean\n",
       "gender SeniorCitizen Partner Dependents          \n",
       "Female 0             No      No          0.320628\n",
       "                             Yes         0.225352\n",
       "                     Yes     No          0.191275\n",
       "                             Yes         0.146919\n",
       "       1             No      No          0.498423\n",
       "                             Yes         0.333333\n",
       "                     Yes     No          0.349282\n",
       "                             Yes         0.205128\n",
       "Male   0             No      No          0.302679\n",
       "                             Yes         0.203791\n",
       "                     Yes     No          0.225750\n",
       "                             Yes         0.127737\n",
       "       1             No      No          0.483607\n",
       "                             Yes         0.200000\n",
       "                     Yes     No          0.373665\n",
       "                             Yes         0.272727"
      ]
     },
     "execution_count": 22,
     "metadata": {},
     "output_type": "execute_result"
    }
   ],
   "source": [
    "# Taxa de Churn por algumas features\n",
    "anl = data_copy.groupby(['gender','SeniorCitizen','Partner','Dependents'])['Churn'].agg(['mean'])\n",
    "anl"
   ]
  },
  {
   "attachments": {},
   "cell_type": "markdown",
   "metadata": {},
   "source": [
    "#### Codificação de Variáveis Categoricas"
   ]
  },
  {
   "cell_type": "code",
   "execution_count": 23,
   "metadata": {},
   "outputs": [
    {
     "data": {
      "text/plain": [
       "['gender',\n",
       " 'Partner',\n",
       " 'Dependents',\n",
       " 'PhoneService',\n",
       " 'MultipleLines',\n",
       " 'InternetService',\n",
       " 'OnlineSecurity',\n",
       " 'OnlineBackup',\n",
       " 'DeviceProtection',\n",
       " 'TechSupport',\n",
       " 'StreamingTV',\n",
       " 'StreamingMovies',\n",
       " 'Contract',\n",
       " 'PaperlessBilling',\n",
       " 'PaymentMethod']"
      ]
     },
     "execution_count": 23,
     "metadata": {},
     "output_type": "execute_result"
    }
   ],
   "source": [
    "# Verificando colunas categoricas\n",
    "col_categoricas = [coluna for coluna in data_copy.columns if coluna not in data_copy._get_numeric_data()]\n",
    "col_categoricas"
   ]
  },
  {
   "cell_type": "code",
   "execution_count": 24,
   "metadata": {},
   "outputs": [
    {
     "data": {
      "text/plain": [
       "0    3555\n",
       "1    3488\n",
       "Name: gender, dtype: int64"
      ]
     },
     "metadata": {},
     "output_type": "display_data"
    },
    {
     "data": {
      "text/plain": [
       "0    3641\n",
       "1    3402\n",
       "Name: Partner, dtype: int64"
      ]
     },
     "metadata": {},
     "output_type": "display_data"
    },
    {
     "data": {
      "text/plain": [
       "0    4933\n",
       "1    2110\n",
       "Name: Dependents, dtype: int64"
      ]
     },
     "metadata": {},
     "output_type": "display_data"
    },
    {
     "data": {
      "text/plain": [
       "1    6361\n",
       "0     682\n",
       "Name: PhoneService, dtype: int64"
      ]
     },
     "metadata": {},
     "output_type": "display_data"
    },
    {
     "data": {
      "text/plain": [
       "1    4171\n",
       "0    2872\n",
       "Name: PaperlessBilling, dtype: int64"
      ]
     },
     "metadata": {},
     "output_type": "display_data"
    }
   ],
   "source": [
    "# Codificando a coluna 'gender'\n",
    "data_copy['gender'] = data_copy['gender'].map({'Female':1, 'Male':0})\n",
    "\n",
    "# Codificando as colunas 'Partner', 'Dependents', 'PhoneService', 'PaperlessBilling'\n",
    "colunas_binarias = ['Partner', 'Dependents', 'PhoneService', 'PaperlessBilling']\n",
    "for coluna_binaria in colunas_binarias:\n",
    "    data_copy[coluna_binaria] = data_copy[coluna_binaria].map({'Yes':1, 'No':0})\n",
    "\n",
    "# Verificando como ficou cada variável\n",
    "display(data_copy['gender'].value_counts())\n",
    "for coluna_binaria in colunas_binarias:\n",
    "    display(data_copy[coluna_binaria].value_counts())"
   ]
  },
  {
   "cell_type": "code",
   "execution_count": 25,
   "metadata": {},
   "outputs": [
    {
     "data": {
      "text/plain": [
       "['MultipleLines',\n",
       " 'InternetService',\n",
       " 'OnlineSecurity',\n",
       " 'OnlineBackup',\n",
       " 'DeviceProtection',\n",
       " 'TechSupport',\n",
       " 'StreamingTV',\n",
       " 'StreamingMovies',\n",
       " 'Contract',\n",
       " 'PaymentMethod']"
      ]
     },
     "execution_count": 25,
     "metadata": {},
     "output_type": "execute_result"
    }
   ],
   "source": [
    "# Verificando colunas categoricas\n",
    "col_categoricas = [coluna for coluna in data_copy.columns if coluna not in data_copy._get_numeric_data()]\n",
    "col_categoricas"
   ]
  },
  {
   "cell_type": "code",
   "execution_count": 26,
   "metadata": {},
   "outputs": [
    {
     "data": {
      "text/plain": [
       "No                  3390\n",
       "Yes                 2971\n",
       "No phone service     682\n",
       "Name: MultipleLines, dtype: int64"
      ]
     },
     "metadata": {},
     "output_type": "display_data"
    },
    {
     "data": {
      "text/plain": [
       "Fiber optic    3096\n",
       "DSL            2421\n",
       "No             1526\n",
       "Name: InternetService, dtype: int64"
      ]
     },
     "metadata": {},
     "output_type": "display_data"
    },
    {
     "data": {
      "text/plain": [
       "No                     3498\n",
       "Yes                    2019\n",
       "No internet service    1526\n",
       "Name: OnlineSecurity, dtype: int64"
      ]
     },
     "metadata": {},
     "output_type": "display_data"
    },
    {
     "data": {
      "text/plain": [
       "No                     3088\n",
       "Yes                    2429\n",
       "No internet service    1526\n",
       "Name: OnlineBackup, dtype: int64"
      ]
     },
     "metadata": {},
     "output_type": "display_data"
    },
    {
     "data": {
      "text/plain": [
       "No                     3095\n",
       "Yes                    2422\n",
       "No internet service    1526\n",
       "Name: DeviceProtection, dtype: int64"
      ]
     },
     "metadata": {},
     "output_type": "display_data"
    },
    {
     "data": {
      "text/plain": [
       "No                     3473\n",
       "Yes                    2044\n",
       "No internet service    1526\n",
       "Name: TechSupport, dtype: int64"
      ]
     },
     "metadata": {},
     "output_type": "display_data"
    },
    {
     "data": {
      "text/plain": [
       "No                     2810\n",
       "Yes                    2707\n",
       "No internet service    1526\n",
       "Name: StreamingTV, dtype: int64"
      ]
     },
     "metadata": {},
     "output_type": "display_data"
    },
    {
     "data": {
      "text/plain": [
       "No                     2785\n",
       "Yes                    2732\n",
       "No internet service    1526\n",
       "Name: StreamingMovies, dtype: int64"
      ]
     },
     "metadata": {},
     "output_type": "display_data"
    },
    {
     "data": {
      "text/plain": [
       "Month-to-month    3875\n",
       "Two year          1695\n",
       "One year          1473\n",
       "Name: Contract, dtype: int64"
      ]
     },
     "metadata": {},
     "output_type": "display_data"
    },
    {
     "data": {
      "text/plain": [
       "Electronic check             2365\n",
       "Mailed check                 1612\n",
       "Bank transfer (automatic)    1544\n",
       "Credit card (automatic)      1522\n",
       "Name: PaymentMethod, dtype: int64"
      ]
     },
     "metadata": {},
     "output_type": "display_data"
    }
   ],
   "source": [
    "for col_categorica in col_categoricas:\n",
    "    display(data_copy[col_categorica].value_counts())"
   ]
  },
  {
   "cell_type": "code",
   "execution_count": 27,
   "metadata": {},
   "outputs": [],
   "source": [
    "# Codificando variaveis ordinais\n",
    "data_copy['Contract'] = data_copy['Contract'].map({\n",
    "    'Month-to-month':0,\n",
    "    'Two year':1,\n",
    "    'One year':2\n",
    "    })\n",
    "\n",
    "data_copy['InternetService'] = data_copy['InternetService'].map({\n",
    "    'No':0,\n",
    "    'DSL':1,\n",
    "    'Fiber optic':2 \n",
    "    })\n",
    "\n",
    "data_copy['PaymentMethod'] = data_copy['PaymentMethod'].map({\n",
    "    'Mailed check':0,\n",
    "    'Electronic check':1,\n",
    "    'Bank transfer (automatic)':2, \n",
    "    'Credit card (automatic)':3\n",
    "    })"
   ]
  },
  {
   "cell_type": "code",
   "execution_count": 28,
   "metadata": {},
   "outputs": [
    {
     "data": {
      "text/plain": [
       "['MultipleLines',\n",
       " 'OnlineSecurity',\n",
       " 'OnlineBackup',\n",
       " 'DeviceProtection',\n",
       " 'TechSupport',\n",
       " 'StreamingTV',\n",
       " 'StreamingMovies']"
      ]
     },
     "execution_count": 28,
     "metadata": {},
     "output_type": "execute_result"
    }
   ],
   "source": [
    "# Atualizando as colunas que ainda são catgoricas\n",
    "col_categoricas = [coluna for coluna in data_copy.columns if coluna not in data_copy._get_numeric_data()]\n",
    "\n",
    "# Colunas categoricas nominais\n",
    "col_categoricas"
   ]
  },
  {
   "cell_type": "code",
   "execution_count": 29,
   "metadata": {},
   "outputs": [
    {
     "data": {
      "text/plain": [
       "[array(['No', 'No phone service', 'Yes'], dtype=object),\n",
       " array(['No', 'No internet service', 'Yes'], dtype=object),\n",
       " array(['No', 'No internet service', 'Yes'], dtype=object),\n",
       " array(['No', 'No internet service', 'Yes'], dtype=object),\n",
       " array(['No', 'No internet service', 'Yes'], dtype=object),\n",
       " array(['No', 'No internet service', 'Yes'], dtype=object),\n",
       " array(['No', 'No internet service', 'Yes'], dtype=object)]"
      ]
     },
     "execution_count": 29,
     "metadata": {},
     "output_type": "execute_result"
    }
   ],
   "source": [
    "from sklearn.preprocessing import OneHotEncoder\n",
    "\n",
    "ohe = OneHotEncoder(sparse=False, drop='first')\n",
    "data_onehotencoder = ohe.fit_transform(data_copy[col_categoricas])\n",
    "ohe.categories_"
   ]
  },
  {
   "cell_type": "code",
   "execution_count": 30,
   "metadata": {},
   "outputs": [
    {
     "data": {
      "text/html": [
       "<div>\n",
       "<style scoped>\n",
       "    .dataframe tbody tr th:only-of-type {\n",
       "        vertical-align: middle;\n",
       "    }\n",
       "\n",
       "    .dataframe tbody tr th {\n",
       "        vertical-align: top;\n",
       "    }\n",
       "\n",
       "    .dataframe thead th {\n",
       "        text-align: right;\n",
       "    }\n",
       "</style>\n",
       "<table border=\"1\" class=\"dataframe\">\n",
       "  <thead>\n",
       "    <tr style=\"text-align: right;\">\n",
       "      <th></th>\n",
       "      <th>MultipleLines_No phone service</th>\n",
       "      <th>MultipleLines_Yes</th>\n",
       "      <th>OnlineSecurity_No internet service</th>\n",
       "      <th>OnlineSecurity_Yes</th>\n",
       "      <th>OnlineBackup_No internet service</th>\n",
       "      <th>OnlineBackup_Yes</th>\n",
       "      <th>DeviceProtection_No internet service</th>\n",
       "      <th>DeviceProtection_Yes</th>\n",
       "      <th>TechSupport_No internet service</th>\n",
       "      <th>TechSupport_Yes</th>\n",
       "      <th>StreamingTV_No internet service</th>\n",
       "      <th>StreamingTV_Yes</th>\n",
       "      <th>StreamingMovies_No internet service</th>\n",
       "      <th>StreamingMovies_Yes</th>\n",
       "    </tr>\n",
       "    <tr>\n",
       "      <th>customerID</th>\n",
       "      <th></th>\n",
       "      <th></th>\n",
       "      <th></th>\n",
       "      <th></th>\n",
       "      <th></th>\n",
       "      <th></th>\n",
       "      <th></th>\n",
       "      <th></th>\n",
       "      <th></th>\n",
       "      <th></th>\n",
       "      <th></th>\n",
       "      <th></th>\n",
       "      <th></th>\n",
       "      <th></th>\n",
       "    </tr>\n",
       "  </thead>\n",
       "  <tbody>\n",
       "    <tr>\n",
       "      <th>7590-VHVEG</th>\n",
       "      <td>1.0</td>\n",
       "      <td>0.0</td>\n",
       "      <td>0.0</td>\n",
       "      <td>0.0</td>\n",
       "      <td>0.0</td>\n",
       "      <td>1.0</td>\n",
       "      <td>0.0</td>\n",
       "      <td>0.0</td>\n",
       "      <td>0.0</td>\n",
       "      <td>0.0</td>\n",
       "      <td>0.0</td>\n",
       "      <td>0.0</td>\n",
       "      <td>0.0</td>\n",
       "      <td>0.0</td>\n",
       "    </tr>\n",
       "    <tr>\n",
       "      <th>5575-GNVDE</th>\n",
       "      <td>0.0</td>\n",
       "      <td>0.0</td>\n",
       "      <td>0.0</td>\n",
       "      <td>1.0</td>\n",
       "      <td>0.0</td>\n",
       "      <td>0.0</td>\n",
       "      <td>0.0</td>\n",
       "      <td>1.0</td>\n",
       "      <td>0.0</td>\n",
       "      <td>0.0</td>\n",
       "      <td>0.0</td>\n",
       "      <td>0.0</td>\n",
       "      <td>0.0</td>\n",
       "      <td>0.0</td>\n",
       "    </tr>\n",
       "    <tr>\n",
       "      <th>3668-QPYBK</th>\n",
       "      <td>0.0</td>\n",
       "      <td>0.0</td>\n",
       "      <td>0.0</td>\n",
       "      <td>1.0</td>\n",
       "      <td>0.0</td>\n",
       "      <td>1.0</td>\n",
       "      <td>0.0</td>\n",
       "      <td>0.0</td>\n",
       "      <td>0.0</td>\n",
       "      <td>0.0</td>\n",
       "      <td>0.0</td>\n",
       "      <td>0.0</td>\n",
       "      <td>0.0</td>\n",
       "      <td>0.0</td>\n",
       "    </tr>\n",
       "    <tr>\n",
       "      <th>7795-CFOCW</th>\n",
       "      <td>1.0</td>\n",
       "      <td>0.0</td>\n",
       "      <td>0.0</td>\n",
       "      <td>1.0</td>\n",
       "      <td>0.0</td>\n",
       "      <td>0.0</td>\n",
       "      <td>0.0</td>\n",
       "      <td>1.0</td>\n",
       "      <td>0.0</td>\n",
       "      <td>1.0</td>\n",
       "      <td>0.0</td>\n",
       "      <td>0.0</td>\n",
       "      <td>0.0</td>\n",
       "      <td>0.0</td>\n",
       "    </tr>\n",
       "    <tr>\n",
       "      <th>9237-HQITU</th>\n",
       "      <td>0.0</td>\n",
       "      <td>0.0</td>\n",
       "      <td>0.0</td>\n",
       "      <td>0.0</td>\n",
       "      <td>0.0</td>\n",
       "      <td>0.0</td>\n",
       "      <td>0.0</td>\n",
       "      <td>0.0</td>\n",
       "      <td>0.0</td>\n",
       "      <td>0.0</td>\n",
       "      <td>0.0</td>\n",
       "      <td>0.0</td>\n",
       "      <td>0.0</td>\n",
       "      <td>0.0</td>\n",
       "    </tr>\n",
       "  </tbody>\n",
       "</table>\n",
       "</div>"
      ],
      "text/plain": [
       "            MultipleLines_No phone service  MultipleLines_Yes  \\\n",
       "customerID                                                      \n",
       "7590-VHVEG                             1.0                0.0   \n",
       "5575-GNVDE                             0.0                0.0   \n",
       "3668-QPYBK                             0.0                0.0   \n",
       "7795-CFOCW                             1.0                0.0   \n",
       "9237-HQITU                             0.0                0.0   \n",
       "\n",
       "            OnlineSecurity_No internet service  OnlineSecurity_Yes  \\\n",
       "customerID                                                           \n",
       "7590-VHVEG                                 0.0                 0.0   \n",
       "5575-GNVDE                                 0.0                 1.0   \n",
       "3668-QPYBK                                 0.0                 1.0   \n",
       "7795-CFOCW                                 0.0                 1.0   \n",
       "9237-HQITU                                 0.0                 0.0   \n",
       "\n",
       "            OnlineBackup_No internet service  OnlineBackup_Yes  \\\n",
       "customerID                                                       \n",
       "7590-VHVEG                               0.0               1.0   \n",
       "5575-GNVDE                               0.0               0.0   \n",
       "3668-QPYBK                               0.0               1.0   \n",
       "7795-CFOCW                               0.0               0.0   \n",
       "9237-HQITU                               0.0               0.0   \n",
       "\n",
       "            DeviceProtection_No internet service  DeviceProtection_Yes  \\\n",
       "customerID                                                               \n",
       "7590-VHVEG                                   0.0                   0.0   \n",
       "5575-GNVDE                                   0.0                   1.0   \n",
       "3668-QPYBK                                   0.0                   0.0   \n",
       "7795-CFOCW                                   0.0                   1.0   \n",
       "9237-HQITU                                   0.0                   0.0   \n",
       "\n",
       "            TechSupport_No internet service  TechSupport_Yes  \\\n",
       "customerID                                                     \n",
       "7590-VHVEG                              0.0              0.0   \n",
       "5575-GNVDE                              0.0              0.0   \n",
       "3668-QPYBK                              0.0              0.0   \n",
       "7795-CFOCW                              0.0              1.0   \n",
       "9237-HQITU                              0.0              0.0   \n",
       "\n",
       "            StreamingTV_No internet service  StreamingTV_Yes  \\\n",
       "customerID                                                     \n",
       "7590-VHVEG                              0.0              0.0   \n",
       "5575-GNVDE                              0.0              0.0   \n",
       "3668-QPYBK                              0.0              0.0   \n",
       "7795-CFOCW                              0.0              0.0   \n",
       "9237-HQITU                              0.0              0.0   \n",
       "\n",
       "            StreamingMovies_No internet service  StreamingMovies_Yes  \n",
       "customerID                                                            \n",
       "7590-VHVEG                                  0.0                  0.0  \n",
       "5575-GNVDE                                  0.0                  0.0  \n",
       "3668-QPYBK                                  0.0                  0.0  \n",
       "7795-CFOCW                                  0.0                  0.0  \n",
       "9237-HQITU                                  0.0                  0.0  "
      ]
     },
     "execution_count": 30,
     "metadata": {},
     "output_type": "execute_result"
    }
   ],
   "source": [
    "data_onehotencoder = pd.DataFrame(data=data_onehotencoder, columns=ohe.get_feature_names_out(), index=data_copy.index)\n",
    "data_onehotencoder.head()"
   ]
  },
  {
   "cell_type": "code",
   "execution_count": 31,
   "metadata": {},
   "outputs": [
    {
     "data": {
      "text/html": [
       "<div>\n",
       "<style scoped>\n",
       "    .dataframe tbody tr th:only-of-type {\n",
       "        vertical-align: middle;\n",
       "    }\n",
       "\n",
       "    .dataframe tbody tr th {\n",
       "        vertical-align: top;\n",
       "    }\n",
       "\n",
       "    .dataframe thead th {\n",
       "        text-align: right;\n",
       "    }\n",
       "</style>\n",
       "<table border=\"1\" class=\"dataframe\">\n",
       "  <thead>\n",
       "    <tr style=\"text-align: right;\">\n",
       "      <th></th>\n",
       "      <th>gender</th>\n",
       "      <th>SeniorCitizen</th>\n",
       "      <th>Partner</th>\n",
       "      <th>Dependents</th>\n",
       "      <th>tenure</th>\n",
       "      <th>PhoneService</th>\n",
       "      <th>InternetService</th>\n",
       "      <th>Contract</th>\n",
       "      <th>PaperlessBilling</th>\n",
       "      <th>PaymentMethod</th>\n",
       "      <th>MonthlyCharges</th>\n",
       "      <th>TotalCharges</th>\n",
       "      <th>Churn</th>\n",
       "      <th>MultipleLines_No phone service</th>\n",
       "      <th>MultipleLines_Yes</th>\n",
       "      <th>OnlineSecurity_No internet service</th>\n",
       "      <th>OnlineSecurity_Yes</th>\n",
       "      <th>OnlineBackup_No internet service</th>\n",
       "      <th>OnlineBackup_Yes</th>\n",
       "      <th>DeviceProtection_No internet service</th>\n",
       "      <th>DeviceProtection_Yes</th>\n",
       "      <th>TechSupport_No internet service</th>\n",
       "      <th>TechSupport_Yes</th>\n",
       "      <th>StreamingTV_No internet service</th>\n",
       "      <th>StreamingTV_Yes</th>\n",
       "      <th>StreamingMovies_No internet service</th>\n",
       "      <th>StreamingMovies_Yes</th>\n",
       "    </tr>\n",
       "    <tr>\n",
       "      <th>customerID</th>\n",
       "      <th></th>\n",
       "      <th></th>\n",
       "      <th></th>\n",
       "      <th></th>\n",
       "      <th></th>\n",
       "      <th></th>\n",
       "      <th></th>\n",
       "      <th></th>\n",
       "      <th></th>\n",
       "      <th></th>\n",
       "      <th></th>\n",
       "      <th></th>\n",
       "      <th></th>\n",
       "      <th></th>\n",
       "      <th></th>\n",
       "      <th></th>\n",
       "      <th></th>\n",
       "      <th></th>\n",
       "      <th></th>\n",
       "      <th></th>\n",
       "      <th></th>\n",
       "      <th></th>\n",
       "      <th></th>\n",
       "      <th></th>\n",
       "      <th></th>\n",
       "      <th></th>\n",
       "      <th></th>\n",
       "    </tr>\n",
       "  </thead>\n",
       "  <tbody>\n",
       "    <tr>\n",
       "      <th>7590-VHVEG</th>\n",
       "      <td>1</td>\n",
       "      <td>0</td>\n",
       "      <td>1</td>\n",
       "      <td>0</td>\n",
       "      <td>1</td>\n",
       "      <td>0</td>\n",
       "      <td>1</td>\n",
       "      <td>0</td>\n",
       "      <td>1</td>\n",
       "      <td>1</td>\n",
       "      <td>29.85</td>\n",
       "      <td>29.85</td>\n",
       "      <td>0</td>\n",
       "      <td>1.0</td>\n",
       "      <td>0.0</td>\n",
       "      <td>0.0</td>\n",
       "      <td>0.0</td>\n",
       "      <td>0.0</td>\n",
       "      <td>1.0</td>\n",
       "      <td>0.0</td>\n",
       "      <td>0.0</td>\n",
       "      <td>0.0</td>\n",
       "      <td>0.0</td>\n",
       "      <td>0.0</td>\n",
       "      <td>0.0</td>\n",
       "      <td>0.0</td>\n",
       "      <td>0.0</td>\n",
       "    </tr>\n",
       "    <tr>\n",
       "      <th>5575-GNVDE</th>\n",
       "      <td>0</td>\n",
       "      <td>0</td>\n",
       "      <td>0</td>\n",
       "      <td>0</td>\n",
       "      <td>34</td>\n",
       "      <td>1</td>\n",
       "      <td>1</td>\n",
       "      <td>2</td>\n",
       "      <td>0</td>\n",
       "      <td>0</td>\n",
       "      <td>56.95</td>\n",
       "      <td>1936.30</td>\n",
       "      <td>0</td>\n",
       "      <td>0.0</td>\n",
       "      <td>0.0</td>\n",
       "      <td>0.0</td>\n",
       "      <td>1.0</td>\n",
       "      <td>0.0</td>\n",
       "      <td>0.0</td>\n",
       "      <td>0.0</td>\n",
       "      <td>1.0</td>\n",
       "      <td>0.0</td>\n",
       "      <td>0.0</td>\n",
       "      <td>0.0</td>\n",
       "      <td>0.0</td>\n",
       "      <td>0.0</td>\n",
       "      <td>0.0</td>\n",
       "    </tr>\n",
       "    <tr>\n",
       "      <th>3668-QPYBK</th>\n",
       "      <td>0</td>\n",
       "      <td>0</td>\n",
       "      <td>0</td>\n",
       "      <td>0</td>\n",
       "      <td>2</td>\n",
       "      <td>1</td>\n",
       "      <td>1</td>\n",
       "      <td>0</td>\n",
       "      <td>1</td>\n",
       "      <td>0</td>\n",
       "      <td>53.85</td>\n",
       "      <td>107.70</td>\n",
       "      <td>1</td>\n",
       "      <td>0.0</td>\n",
       "      <td>0.0</td>\n",
       "      <td>0.0</td>\n",
       "      <td>1.0</td>\n",
       "      <td>0.0</td>\n",
       "      <td>1.0</td>\n",
       "      <td>0.0</td>\n",
       "      <td>0.0</td>\n",
       "      <td>0.0</td>\n",
       "      <td>0.0</td>\n",
       "      <td>0.0</td>\n",
       "      <td>0.0</td>\n",
       "      <td>0.0</td>\n",
       "      <td>0.0</td>\n",
       "    </tr>\n",
       "    <tr>\n",
       "      <th>7795-CFOCW</th>\n",
       "      <td>0</td>\n",
       "      <td>0</td>\n",
       "      <td>0</td>\n",
       "      <td>0</td>\n",
       "      <td>45</td>\n",
       "      <td>0</td>\n",
       "      <td>1</td>\n",
       "      <td>2</td>\n",
       "      <td>0</td>\n",
       "      <td>2</td>\n",
       "      <td>42.30</td>\n",
       "      <td>1903.50</td>\n",
       "      <td>0</td>\n",
       "      <td>1.0</td>\n",
       "      <td>0.0</td>\n",
       "      <td>0.0</td>\n",
       "      <td>1.0</td>\n",
       "      <td>0.0</td>\n",
       "      <td>0.0</td>\n",
       "      <td>0.0</td>\n",
       "      <td>1.0</td>\n",
       "      <td>0.0</td>\n",
       "      <td>1.0</td>\n",
       "      <td>0.0</td>\n",
       "      <td>0.0</td>\n",
       "      <td>0.0</td>\n",
       "      <td>0.0</td>\n",
       "    </tr>\n",
       "    <tr>\n",
       "      <th>9237-HQITU</th>\n",
       "      <td>1</td>\n",
       "      <td>0</td>\n",
       "      <td>0</td>\n",
       "      <td>0</td>\n",
       "      <td>2</td>\n",
       "      <td>1</td>\n",
       "      <td>2</td>\n",
       "      <td>0</td>\n",
       "      <td>1</td>\n",
       "      <td>1</td>\n",
       "      <td>70.70</td>\n",
       "      <td>141.40</td>\n",
       "      <td>1</td>\n",
       "      <td>0.0</td>\n",
       "      <td>0.0</td>\n",
       "      <td>0.0</td>\n",
       "      <td>0.0</td>\n",
       "      <td>0.0</td>\n",
       "      <td>0.0</td>\n",
       "      <td>0.0</td>\n",
       "      <td>0.0</td>\n",
       "      <td>0.0</td>\n",
       "      <td>0.0</td>\n",
       "      <td>0.0</td>\n",
       "      <td>0.0</td>\n",
       "      <td>0.0</td>\n",
       "      <td>0.0</td>\n",
       "    </tr>\n",
       "  </tbody>\n",
       "</table>\n",
       "</div>"
      ],
      "text/plain": [
       "            gender  SeniorCitizen  Partner  Dependents  tenure  PhoneService  \\\n",
       "customerID                                                                     \n",
       "7590-VHVEG       1              0        1           0       1             0   \n",
       "5575-GNVDE       0              0        0           0      34             1   \n",
       "3668-QPYBK       0              0        0           0       2             1   \n",
       "7795-CFOCW       0              0        0           0      45             0   \n",
       "9237-HQITU       1              0        0           0       2             1   \n",
       "\n",
       "            InternetService  Contract  PaperlessBilling  PaymentMethod  \\\n",
       "customerID                                                               \n",
       "7590-VHVEG                1         0                 1              1   \n",
       "5575-GNVDE                1         2                 0              0   \n",
       "3668-QPYBK                1         0                 1              0   \n",
       "7795-CFOCW                1         2                 0              2   \n",
       "9237-HQITU                2         0                 1              1   \n",
       "\n",
       "            MonthlyCharges  TotalCharges  Churn  \\\n",
       "customerID                                        \n",
       "7590-VHVEG           29.85         29.85      0   \n",
       "5575-GNVDE           56.95       1936.30      0   \n",
       "3668-QPYBK           53.85        107.70      1   \n",
       "7795-CFOCW           42.30       1903.50      0   \n",
       "9237-HQITU           70.70        141.40      1   \n",
       "\n",
       "            MultipleLines_No phone service  MultipleLines_Yes  \\\n",
       "customerID                                                      \n",
       "7590-VHVEG                             1.0                0.0   \n",
       "5575-GNVDE                             0.0                0.0   \n",
       "3668-QPYBK                             0.0                0.0   \n",
       "7795-CFOCW                             1.0                0.0   \n",
       "9237-HQITU                             0.0                0.0   \n",
       "\n",
       "            OnlineSecurity_No internet service  OnlineSecurity_Yes  \\\n",
       "customerID                                                           \n",
       "7590-VHVEG                                 0.0                 0.0   \n",
       "5575-GNVDE                                 0.0                 1.0   \n",
       "3668-QPYBK                                 0.0                 1.0   \n",
       "7795-CFOCW                                 0.0                 1.0   \n",
       "9237-HQITU                                 0.0                 0.0   \n",
       "\n",
       "            OnlineBackup_No internet service  OnlineBackup_Yes  \\\n",
       "customerID                                                       \n",
       "7590-VHVEG                               0.0               1.0   \n",
       "5575-GNVDE                               0.0               0.0   \n",
       "3668-QPYBK                               0.0               1.0   \n",
       "7795-CFOCW                               0.0               0.0   \n",
       "9237-HQITU                               0.0               0.0   \n",
       "\n",
       "            DeviceProtection_No internet service  DeviceProtection_Yes  \\\n",
       "customerID                                                               \n",
       "7590-VHVEG                                   0.0                   0.0   \n",
       "5575-GNVDE                                   0.0                   1.0   \n",
       "3668-QPYBK                                   0.0                   0.0   \n",
       "7795-CFOCW                                   0.0                   1.0   \n",
       "9237-HQITU                                   0.0                   0.0   \n",
       "\n",
       "            TechSupport_No internet service  TechSupport_Yes  \\\n",
       "customerID                                                     \n",
       "7590-VHVEG                              0.0              0.0   \n",
       "5575-GNVDE                              0.0              0.0   \n",
       "3668-QPYBK                              0.0              0.0   \n",
       "7795-CFOCW                              0.0              1.0   \n",
       "9237-HQITU                              0.0              0.0   \n",
       "\n",
       "            StreamingTV_No internet service  StreamingTV_Yes  \\\n",
       "customerID                                                     \n",
       "7590-VHVEG                              0.0              0.0   \n",
       "5575-GNVDE                              0.0              0.0   \n",
       "3668-QPYBK                              0.0              0.0   \n",
       "7795-CFOCW                              0.0              0.0   \n",
       "9237-HQITU                              0.0              0.0   \n",
       "\n",
       "            StreamingMovies_No internet service  StreamingMovies_Yes  \n",
       "customerID                                                            \n",
       "7590-VHVEG                                  0.0                  0.0  \n",
       "5575-GNVDE                                  0.0                  0.0  \n",
       "3668-QPYBK                                  0.0                  0.0  \n",
       "7795-CFOCW                                  0.0                  0.0  \n",
       "9237-HQITU                                  0.0                  0.0  "
      ]
     },
     "execution_count": 31,
     "metadata": {},
     "output_type": "execute_result"
    }
   ],
   "source": [
    "# Unindo os Dataframe que foi realizado o Onehotencoder ao Dataframe do projeto\n",
    "data_copy = pd.concat([data_copy, data_onehotencoder], axis=1)\n",
    "\n",
    "# Removendo colunas originais do Dataframe do projeto\n",
    "data_copy = data_copy.drop(col_categoricas, axis=1)\n",
    "\n",
    "# Amostra\n",
    "data_copy.head()"
   ]
  },
  {
   "cell_type": "code",
   "execution_count": null,
   "metadata": {},
   "outputs": [],
   "source": [
    "# Criando novas variáveis"
   ]
  },
  {
   "cell_type": "code",
   "execution_count": 32,
   "metadata": {},
   "outputs": [
    {
     "data": {
      "text/plain": [
       "gender                                    int64\n",
       "SeniorCitizen                             int64\n",
       "Partner                                   int64\n",
       "Dependents                                int64\n",
       "tenure                                    int64\n",
       "PhoneService                              int64\n",
       "InternetService                           int64\n",
       "Contract                                  int64\n",
       "PaperlessBilling                          int64\n",
       "PaymentMethod                             int64\n",
       "MonthlyCharges                          float64\n",
       "TotalCharges                            float64\n",
       "Churn                                     int64\n",
       "MultipleLines_No phone service          float64\n",
       "MultipleLines_Yes                       float64\n",
       "OnlineSecurity_No internet service      float64\n",
       "OnlineSecurity_Yes                      float64\n",
       "OnlineBackup_No internet service        float64\n",
       "OnlineBackup_Yes                        float64\n",
       "DeviceProtection_No internet service    float64\n",
       "DeviceProtection_Yes                    float64\n",
       "TechSupport_No internet service         float64\n",
       "TechSupport_Yes                         float64\n",
       "StreamingTV_No internet service         float64\n",
       "StreamingTV_Yes                         float64\n",
       "StreamingMovies_No internet service     float64\n",
       "StreamingMovies_Yes                     float64\n",
       "dtype: object"
      ]
     },
     "execution_count": 32,
     "metadata": {},
     "output_type": "execute_result"
    }
   ],
   "source": [
    "# Verificando como ficou o tipo das colunas\n",
    "data_copy.dtypes"
   ]
  },
  {
   "cell_type": "code",
   "execution_count": 60,
   "metadata": {},
   "outputs": [],
   "source": [
    "data_copy_final = data_copy.copy()"
   ]
  },
  {
   "cell_type": "code",
   "execution_count": 61,
   "metadata": {},
   "outputs": [],
   "source": [
    "data_copy_final.drop(['gender', 'PhoneService', 'MultipleLines_No phone service', 'MultipleLines_Yes'], axis=1, inplace=True)"
   ]
  },
  {
   "cell_type": "code",
   "execution_count": 58,
   "metadata": {},
   "outputs": [
    {
     "data": {
      "text/html": [
       "<div>\n",
       "<style scoped>\n",
       "    .dataframe tbody tr th:only-of-type {\n",
       "        vertical-align: middle;\n",
       "    }\n",
       "\n",
       "    .dataframe tbody tr th {\n",
       "        vertical-align: top;\n",
       "    }\n",
       "\n",
       "    .dataframe thead th {\n",
       "        text-align: right;\n",
       "    }\n",
       "</style>\n",
       "<table border=\"1\" class=\"dataframe\">\n",
       "  <thead>\n",
       "    <tr style=\"text-align: right;\">\n",
       "      <th></th>\n",
       "      <th>SeniorCitizen</th>\n",
       "      <th>Partner</th>\n",
       "      <th>Dependents</th>\n",
       "      <th>tenure</th>\n",
       "      <th>InternetService</th>\n",
       "      <th>Contract</th>\n",
       "      <th>PaperlessBilling</th>\n",
       "      <th>PaymentMethod</th>\n",
       "      <th>MonthlyCharges</th>\n",
       "      <th>TotalCharges</th>\n",
       "      <th>OnlineSecurity_No internet service</th>\n",
       "      <th>OnlineSecurity_Yes</th>\n",
       "      <th>OnlineBackup_No internet service</th>\n",
       "      <th>OnlineBackup_Yes</th>\n",
       "      <th>DeviceProtection_No internet service</th>\n",
       "      <th>DeviceProtection_Yes</th>\n",
       "      <th>TechSupport_No internet service</th>\n",
       "      <th>TechSupport_Yes</th>\n",
       "      <th>StreamingTV_No internet service</th>\n",
       "      <th>StreamingMovies_No internet service</th>\n",
       "      <th>Churn</th>\n",
       "    </tr>\n",
       "    <tr>\n",
       "      <th>customerID</th>\n",
       "      <th></th>\n",
       "      <th></th>\n",
       "      <th></th>\n",
       "      <th></th>\n",
       "      <th></th>\n",
       "      <th></th>\n",
       "      <th></th>\n",
       "      <th></th>\n",
       "      <th></th>\n",
       "      <th></th>\n",
       "      <th></th>\n",
       "      <th></th>\n",
       "      <th></th>\n",
       "      <th></th>\n",
       "      <th></th>\n",
       "      <th></th>\n",
       "      <th></th>\n",
       "      <th></th>\n",
       "      <th></th>\n",
       "      <th></th>\n",
       "      <th></th>\n",
       "    </tr>\n",
       "  </thead>\n",
       "  <tbody>\n",
       "    <tr>\n",
       "      <th>7590-VHVEG</th>\n",
       "      <td>0</td>\n",
       "      <td>1</td>\n",
       "      <td>0</td>\n",
       "      <td>1</td>\n",
       "      <td>1</td>\n",
       "      <td>0</td>\n",
       "      <td>1</td>\n",
       "      <td>1</td>\n",
       "      <td>29.85</td>\n",
       "      <td>29.85</td>\n",
       "      <td>0.0</td>\n",
       "      <td>0.0</td>\n",
       "      <td>0.0</td>\n",
       "      <td>1.0</td>\n",
       "      <td>0.0</td>\n",
       "      <td>0.0</td>\n",
       "      <td>0.0</td>\n",
       "      <td>0.0</td>\n",
       "      <td>0.0</td>\n",
       "      <td>0.0</td>\n",
       "      <td>0</td>\n",
       "    </tr>\n",
       "  </tbody>\n",
       "</table>\n",
       "</div>"
      ],
      "text/plain": [
       "            SeniorCitizen  Partner  Dependents  tenure  InternetService  \\\n",
       "customerID                                                                \n",
       "7590-VHVEG              0        1           0       1                1   \n",
       "\n",
       "            Contract  PaperlessBilling  PaymentMethod  MonthlyCharges  \\\n",
       "customerID                                                              \n",
       "7590-VHVEG         0                 1              1           29.85   \n",
       "\n",
       "            TotalCharges  OnlineSecurity_No internet service  \\\n",
       "customerID                                                     \n",
       "7590-VHVEG         29.85                                 0.0   \n",
       "\n",
       "            OnlineSecurity_Yes  OnlineBackup_No internet service  \\\n",
       "customerID                                                         \n",
       "7590-VHVEG                 0.0                               0.0   \n",
       "\n",
       "            OnlineBackup_Yes  DeviceProtection_No internet service  \\\n",
       "customerID                                                           \n",
       "7590-VHVEG               1.0                                   0.0   \n",
       "\n",
       "            DeviceProtection_Yes  TechSupport_No internet service  \\\n",
       "customerID                                                          \n",
       "7590-VHVEG                   0.0                              0.0   \n",
       "\n",
       "            TechSupport_Yes  StreamingTV_No internet service  \\\n",
       "customerID                                                     \n",
       "7590-VHVEG              0.0                              0.0   \n",
       "\n",
       "            StreamingMovies_No internet service  Churn  \n",
       "customerID                                              \n",
       "7590-VHVEG                                  0.0      0  "
      ]
     },
     "execution_count": 58,
     "metadata": {},
     "output_type": "execute_result"
    }
   ],
   "source": [
    "# Utilizando o 'SelectKBest' para seleção das features\n",
    "X = data_copy_final.drop(['Churn'], axis=1)\n",
    "y = data_copy_final['Churn']\n",
    "\n",
    "from sklearn.feature_selection import SelectKBest\n",
    "from sklearn.feature_selection import f_classif, mutual_info_classif\n",
    "\n",
    "f_classif = SelectKBest(score_func=f_classif, k=20)\n",
    "fitfcla = f_classif.fit(X, y)\n",
    "featuresfcla = fitfcla.transform(X)\n",
    "\n",
    "colsfcla = fitfcla.get_support(indices=True)\n",
    "datafeaturesfcla = X.iloc[:, colsfcla]\n",
    "datafeaturesfcla = datafeaturesfcla.join(y, how='inner')\n",
    "datafeaturesfcla.head(1)"
   ]
  },
  {
   "cell_type": "code",
   "execution_count": 59,
   "metadata": {},
   "outputs": [],
   "source": [
    "datafeaturesfcla.to_csv('../Data/Data_Transformedv21.0.csv', index_label=False)"
   ]
  },
  {
   "cell_type": "code",
   "execution_count": 39,
   "metadata": {},
   "outputs": [],
   "source": [
    "# Salvando o Dataframe customerID\n",
    "data_copy_final.to_csv('../Data/Data_Transformedv22.0.csv', index_label=False)"
   ]
  }
 ],
 "metadata": {
  "kernelspec": {
   "display_name": "Python 3.10.8 ('CD_Churn')",
   "language": "python",
   "name": "python3"
  },
  "language_info": {
   "codemirror_mode": {
    "name": "ipython",
    "version": 3
   },
   "file_extension": ".py",
   "mimetype": "text/x-python",
   "name": "python",
   "nbconvert_exporter": "python",
   "pygments_lexer": "ipython3",
   "version": "3.10.8 | packaged by conda-forge | (main, Nov 24 2022, 14:07:00) [MSC v.1916 64 bit (AMD64)]"
  },
  "orig_nbformat": 4,
  "vscode": {
   "interpreter": {
    "hash": "4d0886bb760c29be1fb17b57773a2068c62a87629476d19d70692f5d0254adf7"
   }
  }
 },
 "nbformat": 4,
 "nbformat_minor": 2
}
