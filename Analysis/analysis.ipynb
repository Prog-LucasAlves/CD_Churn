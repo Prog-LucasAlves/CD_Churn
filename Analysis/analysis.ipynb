{
 "cells": [
  {
   "attachments": {},
   "cell_type": "markdown",
   "metadata": {},
   "source": [
    "# Previsão de Churn\n",
    "\n",
    "### Análise dos Dados (Limpeza, Transformação e Previssão)"
   ]
  },
  {
   "attachments": {},
   "cell_type": "markdown",
   "metadata": {},
   "source": [
    "#### Bibliotecas utilizadas:"
   ]
  },
  {
   "cell_type": "code",
   "execution_count": 1,
   "metadata": {},
   "outputs": [],
   "source": [
    "# Manipulação de Dados\n",
    "import pandas as pd\n",
    "import numpy as np\n",
    "\n",
    "# Visualização dos dados\n",
    "import matplotlib.pyplot as plt\n",
    "import seaborn as sns\n",
    "\n",
    "# Ignore Warning(Avisos)\n",
    "import warnings\n",
    "\n",
    "warnings.filterwarnings(\"ignore\")\n",
    "\n",
    "pd.set_option('display.max_columns', 100)"
   ]
  },
  {
   "attachments": {},
   "cell_type": "markdown",
   "metadata": {},
   "source": [
    "#### Carregando os dados"
   ]
  },
  {
   "cell_type": "code",
   "execution_count": null,
   "metadata": {},
   "outputs": [],
   "source": [
    "data = pd.read_csv('../Data/Telco-Customer-Churn.csv', sep=',')\n",
    "\n",
    "# Amostra dos dados\n",
    "data.head()"
   ]
  },
  {
   "attachments": {},
   "cell_type": "markdown",
   "metadata": {},
   "source": [
    "#### Colunas\n",
    "- customerID - Identificação do cliente\n",
    "- gender - Sexo do cliente\n",
    "- SeniorCitizen - Indicador se é um(a) idosa(a)\t\n",
    "- Partner - Indicador se tem um parceiro(a)\n",
    "- Dependents - Indicador se possui dependentes\n",
    "- tenure - Quantos meses o cliente esta na empresa\n",
    "- PhoneService - Indicador se possui serviço de telefonia\n",
    "- MultipleLines - Indicador se possui múltiplas linhas telfônicas\n",
    "- InternetService - Indicador se possui serviços de internet\n",
    "- OnlineSecurity - Indicador se possui serviços de segurança online\n",
    "- OnlineBackup - Indicador se possui serviços de backup online\n",
    "- DeviceProtection - Indicador se possui serviços de equipamentos\n",
    "- TechSupport - Indicador se possui serviços de suporte técnico\n",
    "- StreamingTV - Indicador se posui serviços de streaming de TV\n",
    "- StreamingMovies - Indicador se possui serviços de streaming de filmes\n",
    "- Contract - Tipo de contrato\n",
    "- PaperlessBilling - Indicador se a cobrança é via papel ou não\n",
    "- PaymentMethod - Indicador do tipo de pagamento\n",
    "- MonthlyCharges - Valor mensal dos serviços\n",
    "- TotalCharges - Valor total dos serviços desde o inicio\n",
    "- Churn - Indicador se saiu da empresa ou não"
   ]
  },
  {
   "attachments": {},
   "cell_type": "markdown",
   "metadata": {},
   "source": [
    "#### Cópia do DataFrame original"
   ]
  },
  {
   "cell_type": "code",
   "execution_count": null,
   "metadata": {},
   "outputs": [],
   "source": [
    "\n",
    "data_copy = data.copy()\n"
   ]
  },
  {
   "attachments": {},
   "cell_type": "markdown",
   "metadata": {},
   "source": [
    "#### Informações do DataSet"
   ]
  },
  {
   "cell_type": "code",
   "execution_count": null,
   "metadata": {},
   "outputs": [],
   "source": [
    "data_copy.shape"
   ]
  },
  {
   "cell_type": "code",
   "execution_count": null,
   "metadata": {},
   "outputs": [],
   "source": [
    "data_copy.columns"
   ]
  },
  {
   "cell_type": "code",
   "execution_count": null,
   "metadata": {},
   "outputs": [],
   "source": [
    "data_copy.info()"
   ]
  },
  {
   "attachments": {},
   "cell_type": "markdown",
   "metadata": {},
   "source": [
    "#### Transformações no DataSet"
   ]
  },
  {
   "cell_type": "code",
   "execution_count": null,
   "metadata": {},
   "outputs": [],
   "source": [
    "# Coluna Churn - Alterando para 0 | 1\n",
    "data_copy['Churn'].value_counts()\n",
    "\n",
    "coluna_churn = {'Yes':1, 'No':0}\n",
    "data_copy['Churn'].replace(coluna_churn, inplace=True)"
   ]
  },
  {
   "cell_type": "code",
   "execution_count": null,
   "metadata": {},
   "outputs": [],
   "source": [
    "# Colocando a coluna 'customerID' como indice\n",
    "data_copy.set_index('customerID', inplace=True)"
   ]
  },
  {
   "cell_type": "code",
   "execution_count": null,
   "metadata": {},
   "outputs": [],
   "source": [
    "# Verificando a coluna 'TotalCharges'\n",
    "# Vamos criar um filtro para verificar se há como dado espaço(s) em branco\n",
    "filter_vazio = data_copy[data_copy['TotalCharges'] == ' ']\n",
    "\n",
    "print(len(filter_vazio))"
   ]
  },
  {
   "attachments": {},
   "cell_type": "markdown",
   "metadata": {},
   "source": [
    "> Como podemos verificar temos 11 dados como vazio na coluna 'TotalCharges'\n",
    "\n",
    "- Temos que transformá-la em '*float*'"
   ]
  },
  {
   "cell_type": "code",
   "execution_count": null,
   "metadata": {},
   "outputs": [],
   "source": [
    "# Fazendo o replace do dado vazio\n",
    "data_copy['TotalCharges'] = data_copy['TotalCharges'].replace(\"\\s+\", \"\", regex=True)\n",
    "\n",
    "# Transformando para float e os dado que estava vazio vai ficar como 'Nan'\n",
    "data_copy['TotalCharges'] = pd.to_numeric(data_copy['TotalCharges'], errors='coerce')\n",
    "\n",
    "# Verificando como ficou o tipo da coluna\n",
    "data_copy.info()"
   ]
  },
  {
   "attachments": {},
   "cell_type": "markdown",
   "metadata": {},
   "source": [
    "### Analisando os dados"
   ]
  },
  {
   "cell_type": "code",
   "execution_count": null,
   "metadata": {},
   "outputs": [],
   "source": [
    "data_copy.describe()"
   ]
  },
  {
   "attachments": {},
   "cell_type": "markdown",
   "metadata": {},
   "source": [
    "> Podemos verificar que:\n",
    "\n",
    "- Coluna 'tenure'(Quantos meses o cliente esta na empresa) - A média em que o cliente esta na empresa em 32.37 meses "
   ]
  },
  {
   "cell_type": "code",
   "execution_count": null,
   "metadata": {},
   "outputs": [],
   "source": [
    "# Mundando o padrão de quartis para decis\n",
    "data_copy.describe(percentiles=np.linspace(0, 1, 11))"
   ]
  },
  {
   "attachments": {},
   "cell_type": "markdown",
   "metadata": {},
   "source": [
    "> Podemos verificar que:\n",
    "\n",
    "- Coluna 'tenure'(Quantos meses o cliente esta na empresa) - 40% da base de clientes tem 20 meses que estão na empresa."
   ]
  },
  {
   "cell_type": "code",
   "execution_count": null,
   "metadata": {},
   "outputs": [],
   "source": [
    "print(f'3Meses -> Qtd. Clientes: {len(data_copy[data_copy[\"tenure\"] <= 3])} - Porcentagem: {round(100 * len(data_copy[data_copy[\"tenure\"] <= 3]) / data_copy.shape[0], 2)}')\n",
    "\n",
    "print(f'6Meses -> Qtd. Clientes: {len(data_copy[data_copy[\"tenure\"] <= 6])} - Porcentagem: {round(100 * len(data_copy[data_copy[\"tenure\"] <= 6]) / data_copy.shape[0], 2)}')\n",
    "\n",
    "print(f'(<=)12Meses -> Qtd. Clientes: {len(data_copy[data_copy[\"tenure\"] <= 12])} - Porcentagem: {round(100 * len(data_copy[data_copy[\"tenure\"] <= 12]) / data_copy.shape[0], 2)}')\n"
   ]
  },
  {
   "cell_type": "code",
   "execution_count": null,
   "metadata": {},
   "outputs": [],
   "source": [
    "custom_params = {\"axes.spines.right\": False, \"axes.spines.top\": False}\n",
    "sns.set_theme(style=\"ticks\", rc=custom_params, palette=\"Set2\")"
   ]
  },
  {
   "attachments": {},
   "cell_type": "markdown",
   "metadata": {},
   "source": [
    "> Verificando a coluna 'tenure'"
   ]
  },
  {
   "cell_type": "code",
   "execution_count": null,
   "metadata": {},
   "outputs": [],
   "source": [
    "plt.tight_layout()\n",
    "sns.histplot(data=data_copy, x='tenure')\n",
    "plt.show()"
   ]
  },
  {
   "cell_type": "code",
   "execution_count": null,
   "metadata": {},
   "outputs": [],
   "source": []
  },
  {
   "cell_type": "code",
   "execution_count": null,
   "metadata": {},
   "outputs": [],
   "source": [
    "fig, axes = plt.subplots(5, 2, figsize=(10, 16))\n",
    "# linha 1\n",
    "sns.countplot(x='gender', data=data_copy, ax=axes[0,0])\n",
    "sns.countplot(x='gender', hue='Churn', data=data_copy, ax=axes[0,1])\n",
    "axes[0,0].set_title('Qtd. de Clientes por Sexo')\n",
    "axes[0,1].set_title('Qtd. de Clientes por Sexo x Churn')\n",
    "\n",
    "# linha 2\n",
    "sns.countplot(x='SeniorCitizen', data=data_copy, ax=axes[1,0])\n",
    "sns.countplot(x='SeniorCitizen', hue='Churn', data=data_copy, ax=axes[1,1])\n",
    "axes[1,0].set_title('Qtd. de Clientes Idosas')\n",
    "axes[1,1].set_title('Qtd. de Clientes Idosas x Churn')\n",
    "\n",
    "# linha 3\n",
    "sns.countplot(x='Partner', data=data_copy, ax=axes[2,0])\n",
    "sns.countplot(x='Partner', hue='Churn', data=data_copy, ax=axes[2,1])\n",
    "axes[2,0].set_title('Qtd. de Clientes com Parceiro(a)')\n",
    "axes[2,1].set_title('Qtd. de Clientes com Parceiro(a) x Churn')\n",
    "\n",
    "# linha 4\n",
    "sns.countplot(x='Dependents', data=data_copy, ax=axes[3,0])\n",
    "sns.countplot(x='Dependents', hue='Churn', data=data_copy, ax=axes[3,1])\n",
    "axes[3,0].set_title('Qtd. de Clientes com Depententes')\n",
    "axes[3,1].set_title('Qtd. de Clientes com Depententes x Churn')\n",
    "\n",
    "# Linha 5\n",
    "sns.countplot(x='PhoneService', data=data_copy, ax=axes[4,0])\n",
    "sns.countplot(x='PhoneService', hue='Churn', data=data_copy, ax=axes[4,1])\n",
    "axes[4,0].set_title('Qtd. de Clientes com Serviço de Telefonia')\n",
    "axes[4,1].set_title('Qtd. de Clientes com Serviço de Telefonia x Churn')\n",
    "\n",
    "plt.subplots_adjust(left=0.2, \n",
    "                    bottom=0.1,  \n",
    "                    right=0.9,  \n",
    "                    top=0.9,  \n",
    "                    wspace=0.5,  \n",
    "                    hspace=0.8) \n",
    "\n",
    "plt.show()"
   ]
  },
  {
   "cell_type": "code",
   "execution_count": null,
   "metadata": {},
   "outputs": [],
   "source": [
    "# Colocando a coluna 'customerID' como indice\n",
    "data_copy.set_index('customerID', inplace=True)"
   ]
  },
  {
   "cell_type": "code",
   "execution_count": null,
   "metadata": {},
   "outputs": [],
   "source": [
    "# Coluna Churn\n",
    "data_copy['Churn'].value_counts()\n",
    "\n",
    "coluna_churn = {'Yes':1, 'No':0}\n",
    "data_copy['Churn'].replace(coluna_churn, inplace=True)\n",
    "\n",
    "data_copy['Churn'].value_counts()"
   ]
  },
  {
   "cell_type": "code",
   "execution_count": null,
   "metadata": {},
   "outputs": [],
   "source": [
    "columns = data_copy.columns\n",
    "colunas_binarias = []\n",
    "\n",
    "for col in columns:\n",
    "    if data_copy[col].value_counts().shape[0] == 2:\n",
    "        colunas_binarias.append(col)\n",
    "\n",
    "colunas_binarias"
   ]
  },
  {
   "cell_type": "code",
   "execution_count": null,
   "metadata": {},
   "outputs": [],
   "source": [
    "print(data_copy[['gender','Churn']].groupby(['gender']).mean())\n",
    "print(data_copy[['SeniorCitizen','Churn']].groupby(['SeniorCitizen']).mean())\n",
    "print(data_copy[['Partner','Churn']].groupby(['Partner']).mean())\n",
    "print(data_copy[['Dependents','Churn']].groupby(['Dependents']).mean())\n",
    "print(data_copy[['PhoneService','Churn']].groupby(['PhoneService']).mean())\n",
    "print(data_copy[['PaperlessBilling','Churn']].groupby(['PaperlessBilling']).mean())"
   ]
  }
 ],
 "metadata": {
  "kernelspec": {
   "display_name": "Python 3.10.8 ('CD_Churn')",
   "language": "python",
   "name": "python3"
  },
  "language_info": {
   "codemirror_mode": {
    "name": "ipython",
    "version": 3
   },
   "file_extension": ".py",
   "mimetype": "text/x-python",
   "name": "python",
   "nbconvert_exporter": "python",
   "pygments_lexer": "ipython3",
   "version": "3.10.8 | packaged by conda-forge | (main, Nov 24 2022, 14:07:00) [MSC v.1916 64 bit (AMD64)]"
  },
  "orig_nbformat": 4,
  "vscode": {
   "interpreter": {
    "hash": "4d0886bb760c29be1fb17b57773a2068c62a87629476d19d70692f5d0254adf7"
   }
  }
 },
 "nbformat": 4,
 "nbformat_minor": 2
}
